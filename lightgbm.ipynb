{
 "cells": [
  {
   "cell_type": "code",
   "execution_count": 57,
   "metadata": {},
   "outputs": [],
   "source": [
    "import warnings\n",
    "warnings.filterwarnings('ignore')"
   ]
  },
  {
   "cell_type": "code",
   "execution_count": 105,
   "metadata": {},
   "outputs": [],
   "source": [
    "from sklearn.pipeline import Pipeline\n",
    "from scipy.stats import rankdata\n",
    "\n",
    "\n",
    "from typing import List, Optional\n",
    "from scipy import stats\n",
    "from scipy.stats import shapiro\n",
    "from scipy.stats import probplot\n",
    "from scipy.stats import ttest_ind, mannwhitneyu\n",
    "from scipy.stats import chi2_contingency\n",
    "from statsmodels.stats.weightstats import zconfint\n",
    "import statsmodels.api as sm\n",
    "from tqdm import tqdm\n",
    "import lightgbm as lgb\n",
    "import catboost as cb\n",
    "import numpy as np\n",
    "import pandas as pd\n",
    "import matplotlib as mpl\n",
    "import matplotlib.pyplot as plt\n",
    "from sklearn.model_selection import train_test_split, ShuffleSplit, cross_val_score, learning_curve\n",
    "import seaborn as sns\n",
    "import scipy.stats as st\n",
    "from scipy.stats import probplot, ks_2samp\n",
    "import sklearn as sk\n",
    "from sklearn.metrics import roc_auc_score, f1_score,r2_score,classification_report,accuracy_score,precision_score, recall_score\n",
    "from sklearn.ensemble import RandomForestRegressor\n",
    "from sklearn.model_selection import KFold, cross_val_score\n",
    "from sklearn.base import BaseEstimator, TransformerMixin\n",
    "from sklearn.utils.validation import check_is_fitted\n",
    "# import missingno as msno\n",
    "import xgboost as xgb\n",
    "import pickle\n",
    "from sklearn.linear_model import LogisticRegression\n",
    "from sklearn.neighbors import KNeighborsClassifier\n",
    "from sklearn.preprocessing import StandardScaler, MinMaxScaler\n",
    "from sklearn.model_selection import KFold, GridSearchCV, RandomizedSearchCV\n",
    "from scipy.stats import ttest_rel\n",
    "%matplotlib inline"
   ]
  },
  {
   "cell_type": "code",
   "execution_count": 59,
   "metadata": {},
   "outputs": [],
   "source": [
    "TRAIN = 'course_project_train.csv'\n",
    "TEST = 'course_project_test.csv'\n",
    "Train_working=\"Train_working.csv\"\n",
    "Test_working ='Test_working.csv'\n",
    "predict = 'VErshov_predictions.csv'\n",
    "Train_work = 'Train_work.pkl'\n",
    "Test_work = 'Test_work.pkl'\n"
   ]
  },
  {
   "cell_type": "code",
   "execution_count": 60,
   "metadata": {},
   "outputs": [],
   "source": [
    "train = pd.read_csv(Train_working)\n",
    "test= pd.read_csv(Test_working)\n",
    "target = train['Credit Default']\n",
    "with open(Train_work, 'rb') as f:\n",
    "    train_work = pickle.load(f)\n",
    "with open(Test_work, 'rb') as f:\n",
    "    test_work = pickle.load(f)\n",
    "\n",
    "train_ = pd.read_csv(TRAIN)    "
   ]
  },
  {
   "cell_type": "code",
   "execution_count": 61,
   "metadata": {},
   "outputs": [
    {
     "data": {
      "text/plain": [
       "17"
      ]
     },
     "execution_count": 61,
     "metadata": {},
     "output_type": "execute_result"
    }
   ],
   "source": [
    "# разделим признаки по типу\n",
    "target_col = ['Credit Default']\n",
    "categorical_features=['Home Ownership','Tax Liens','Purpose','Term']\n",
    "discrete_feature = ['Years in current job','Number of Open Accounts',\\\n",
    "                    'Years of Credit History','Number of Credit Problems',\\\n",
    "                   'Months since last delinquent','Bankruptcies','Credit Score']\n",
    "continuous_feature = ['Annual Income','Maximum Open Credit','Current Loan Amount',\\\n",
    "                      'Current Credit Balance','Monthly Debt']\n",
    "len(target_col + categorical_features +  discrete_feature + continuous_feature)"
   ]
  },
  {
   "cell_type": "code",
   "execution_count": null,
   "metadata": {},
   "outputs": [],
   "source": []
  },
  {
   "cell_type": "code",
   "execution_count": 6,
   "metadata": {},
   "outputs": [],
   "source": [
    "def calculate_confidence_interval(scores: list, conf_interval: float = 0.95) :\n",
    "    \"\"\"\n",
    "    Вычисление доверительного интервала.\n",
    "\n",
    "    Parameters\n",
    "    ----------\n",
    "    scores: List[float / int]\n",
    "        Список с оценками изучаемой величины.\n",
    "\n",
    "    conf_interval: float, optional, default = 0.95\n",
    "        Уровень доверия для построения интервала.\n",
    "        Опциональный параметр, по умолчанию, равен 0.95.\n",
    "\n",
    "    Returns\n",
    "    -------\n",
    "    conf_interval: Tuple[float]\n",
    "        Кортеж с границами доверительного интервала.\n",
    "\n",
    "    \"\"\"\n",
    "    left_bound = np.percentile(\n",
    "        scores, ((1 - conf_interval) / 2) * 100\n",
    "    )\n",
    "    right_bound = np.percentile(\n",
    "        scores, (conf_interval + ((1 - conf_interval) / 2)) * 100\n",
    "    )\n",
    "\n",
    "    return left_bound, right_bound"
   ]
  },
  {
   "cell_type": "code",
   "execution_count": 7,
   "metadata": {},
   "outputs": [],
   "source": [
    "def test_hold_out_val(df,target,params,n=500):\n",
    "    res = pd.DataFrame()\n",
    "    for j in [0.2,0.25,0.3,0.35]:\n",
    "        score={}\n",
    "        score['test'] = []\n",
    "        score['train'] = []   \n",
    "        for i in range(n):      \n",
    "            x_train, x_test,y_train,y_test = train_test_split(df,target, test_size=j,\\\n",
    "                                                              shuffle=True, random_state=i+1)\n",
    "            dtrain = lgb.Dataset(data = x_train,label=y_train)\n",
    "            dvalid = lgb.Dataset(data=x_test,label=y_test)\n",
    "            model_lgb  = lgb.train(\n",
    "                    params=params,\n",
    "                    train_set=dtrain,\n",
    "                    num_boost_round=10000,\n",
    "                    valid_sets=[dtrain, dvalid],\n",
    "                    categorical_feature='auto',\n",
    "                    verbose_eval=None,\n",
    "                    early_stopping_rounds=95)\n",
    "            score['train'].append(model_lgb.best_score['training']['auc'])\n",
    "            score['test'].append(model_lgb.best_score['valid_1']['auc'])\n",
    "        test = np.array(score['test'])\n",
    "        train = np.array(score['train'])\n",
    "        res.loc[j,'conf_v']=str(calculate_confidence_interval(test))\n",
    "        res.loc[j,'min_v']=test.min()\n",
    "        res.loc[j,'max_v']=test.max()\n",
    "        res.loc[j,'delta_v']=test.max() - test.min()\n",
    "        res.loc[j,'mean_v']=test.mean()\n",
    "        res.loc[j,'std_v']=test.std()\n",
    "        res.loc[j,'delta_mean_v_t']=train.mean()-test.mean()\n",
    "        res.loc[j,'conf_t']=str(calculate_confidence_interval(train))\n",
    "        res.loc[j,'min_t']=train.min()\n",
    "        res.loc[j,'max_t']=train.max()\n",
    "        res.loc[j,'delta_t']=train.max() - train.min()\n",
    "        res.loc[j,'mean_t']=train.mean()\n",
    "        res.loc[j,'std_t']=train.std()\n",
    "    return res  \n",
    "\n",
    "def test_hold_out_val_1(df,target,params,n=100):\n",
    "    res = pd.DataFrame()\n",
    "\n",
    "    score={}\n",
    "    score['test'] = []\n",
    "    score['valid'] = []   \n",
    "    for i in range(n):      \n",
    "        x_train, x_valid,y_train,y_valid = train_test_split(df,target, test_size=0.3,\\\n",
    "                                                              shuffle=True, random_state=i+1)\n",
    "        x_valid, x_test,y_valid,y_test = train_test_split(x_valid,y_valid, test_size=0.5,\\\n",
    "                                                              shuffle=True, random_state=i+1)\n",
    "            \n",
    "            \n",
    "            \n",
    "            \n",
    "        dtrain = lgb.Dataset(data = x_train,label=y_train)\n",
    "        dvalid = lgb.Dataset(data=x_valid,label=y_valid)\n",
    "        model_lgb  = lgb.train(\n",
    "                    params=params_lgb,\n",
    "                    train_set=dtrain,\n",
    "                    num_boost_round=10000,\n",
    "                    valid_sets=[dtrain, dvalid],\n",
    "                    categorical_feature='auto',\n",
    "                    verbose_eval=None,\n",
    "                    early_stopping_rounds=95)\n",
    "        a=roc_auc_score(y_test,model_lgb.predict(x_test))\n",
    "        b=model_lgb.best_score['valid_1']['auc']\n",
    "        score['test'].append(a)\n",
    "        score['valid'].append(b)\n",
    "    test = np.array(score['test'])\n",
    "    valid = np.array(score['valid'])\n",
    "    res.loc[0,'conf_t']=str(calculate_confidence_interval(test))\n",
    "    res.loc[0,'min_t']=test.min()\n",
    "    res.loc[0,'max_t']=test.max()\n",
    "    res.loc[0,'delta_t']=test.max() - test.min()\n",
    "    res.loc[0,'mean_t']=test.mean()\n",
    "    res.loc[0,'std_t']=test.std()\n",
    "    res.loc[0,'delta_mean_v_t']=valid.mean()-test.mean()\n",
    "    res.loc[0,'conf_v']=str(calculate_confidence_interval(valid))\n",
    "    res.loc[0,'min_v']=valid.min()\n",
    "    res.loc[0,'max_v']=valid.max()\n",
    "    res.loc[0,'delta_v']=valid.max() - valid.min()\n",
    "    res.loc[0,'mean_v']=valid.mean()\n",
    "    res.loc[0,'std_v']=valid.std()\n",
    "    return res  \n",
    "\n",
    "\n",
    "\n",
    "\n",
    "def test_cros_val(df,target,model,metric,n=100):\n",
    "    res = pd.DataFrame()\n",
    "    for j in [3,4,5,6,7,8]:\n",
    "        score=[]\n",
    "        std = []\n",
    " \n",
    "        for i in range(n):\n",
    "            cv_strategy = KFold(n_splits=j, shuffle=True, random_state=i+1)        \n",
    "            rusult= make_cross_validation(df, target, model, metric,cv_strategy,print_is=False)\n",
    "            \n",
    "            score.append(rusult[1])\n",
    "            std.append(np.array(rusult[3]).std())\n",
    "\n",
    "        test = np.array(score)\n",
    "        train = np.array(std)\n",
    "\n",
    "        res.loc[j,'conf_of']=str(calculate_confidence_interval(test))\n",
    "        res.loc[j,'min_of']=test.min()\n",
    "        res.loc[j,'max_of']=test.max()\n",
    "        res.loc[j,'delta_of']=test.max() - test.min()\n",
    "        res.loc[j,'mean_of']=test.mean()\n",
    "        res.loc[j,'std_of'] = test.std()\n",
    "        res.loc[j,'conf_st']=str(calculate_confidence_interval(train))\n",
    "        res.loc[j,'min_st']=train.min()\n",
    "        res.loc[j,'max_st']=train.max()\n",
    "        res.loc[j,'delta_st']=train.max() - train.min()\n",
    "        res.loc[j,'mean_st']=train.mean()\n",
    "        res.loc[j,'std_st']=train.std()\n",
    "    return res\n",
    "        "
   ]
  },
  {
   "cell_type": "code",
   "execution_count": 8,
   "metadata": {},
   "outputs": [],
   "source": [
    "def drop_target(df,target='Credit Default'):\n",
    "    return df.drop(target,axis = 1)"
   ]
  },
  {
   "cell_type": "code",
   "execution_count": 9,
   "metadata": {},
   "outputs": [],
   "source": [
    "def test_for_data(        y: pd.Series,\n",
    "                          estimator: object,\n",
    "                          metric: callable,\n",
    "                          cv_strategy: int,\n",
    "                          data: list):\n",
    "    p,t_stats, n_trees,off_n = [], [],[],[]\n",
    "    base_score = np.array([])\n",
    "    for num,i in enumerate(data):\n",
    "        current_score = np.array([])\n",
    "        off = []\n",
    "        \n",
    "        for j in range(20):\n",
    "            fold = KFold(n_splits=cv_strategy, shuffle=True, random_state=j+1)\n",
    "            res = make_cross_validation(i,y,estimator,metric,fold,print_is=False)\n",
    "            scores = res[3]\n",
    "            off.append(res[1])\n",
    "            if num == 0:\n",
    "                base_score = np.append(base_score, scores)\n",
    "            else:\n",
    "                current_score = np.append(current_score, scores)\n",
    "        if num!=0:\n",
    "            t_stat, p_value = ttest_rel(current_score, base_score)\n",
    "            t_stats.append(t_stat)\n",
    "            n_trees.append(num)\n",
    "            p.append(p_value)\n",
    "        off_n.append(off)\n",
    "\n",
    "    plt.plot(n_trees, t_stats)\n",
    "    plt.xlabel('data')\n",
    "    plt.ylabel('t-statistic')\n",
    "    return (t_stats,p),off_n\n",
    "        \n",
    "        \n",
    "    \n",
    "    \n",
    "\n",
    "def make_cross_validation(X: pd.DataFrame,\n",
    "                          y: pd.Series,\n",
    "                          estimator: object,\n",
    "                          metric: callable,\n",
    "                          cv_strategy,print_is = True):\n",
    "    \"\"\"\n",
    "    Кросс-валидация.\n",
    "\n",
    "    Parameters\n",
    "    ----------\n",
    "    X: pd.DataFrame\n",
    "        Матрица признаков.\n",
    "\n",
    "    y: pd.Series\n",
    "        Вектор целевой переменной.\n",
    "\n",
    "    estimator: callable\n",
    "        Объект модели для обучения.\n",
    "\n",
    "    metric: callable\n",
    "        Метрика для оценки качества решения.\n",
    "        Ожидается, что на вход будет передана функция,\n",
    "        которая принимает 2 аргумента: y_true, y_pred.\n",
    "\n",
    "    cv_strategy: cross-validation generator\n",
    "        Объект для описания стратегии кросс-валидации.\n",
    "        Ожидается, что на вход будет передан объект типа\n",
    "        KFold или StratifiedKFold.\n",
    "\n",
    "    Returns\n",
    "    -------\n",
    "    oof_score: float\n",
    "        Значение метрики качества на OOF-прогнозах.\n",
    "\n",
    "    fold_train_scores: List[float]\n",
    "        Значение метрики качества на каждом обучающем датасете кросс-валидации.\n",
    "\n",
    "    fold_valid_scores: List[float]\n",
    "        Значение метрики качества на каждом валидационном датасете кросс-валидации.\n",
    "\n",
    "    oof_predictions: np.array\n",
    "        Прогнозы на OOF.\n",
    "\n",
    "    \"\"\"\n",
    "    \n",
    "    estimators, fold_train_scores, fold_valid_scores = [], [], []\n",
    "    oof_predictions = np.zeros(X.shape[0])\n",
    "\n",
    "    for fold_number, (train_idx, valid_idx) in enumerate(cv_strategy.split(X, y)):\n",
    "        x_train, x_valid = X.iloc[train_idx], X.iloc[valid_idx]\n",
    "        y_train, y_valid = y.iloc[train_idx], y.iloc[valid_idx]\n",
    "\n",
    "        estimator.fit(x_train, y_train, eval_set=[(x_train,y_train)],\\\n",
    "                      eval_metric = 'auc',verbose=None) \n",
    "\n",
    "        y_valid_pred = estimator.predict_proba(x_valid)[:,1]\n",
    "        y_train_pred = estimator.predict_proba(x_train)[:,1]\n",
    "        \n",
    "        \n",
    "        fold_train_scores.append(metric(y_train, y_train_pred))\n",
    "        fold_valid_scores.append(metric(y_valid, y_valid_pred))\n",
    "        oof_predictions[valid_idx] = y_valid_pred\n",
    "\n",
    "        msg = (\n",
    "            f\"Fold: {fold_number+1}, train-observations = {len(train_idx)}, \"\n",
    "            f\"valid-observations = {len(valid_idx)}\\n\"\n",
    "            f\"train-score = {round(fold_train_scores[fold_number], 4)}, \"\n",
    "            f\"valid-score = {round(fold_valid_scores[fold_number], 4)}\" \n",
    "        )\n",
    "        if print_is:\n",
    "            print(msg)\n",
    "            print(\"=\"*69)\n",
    "        estimators.append(estimator)\n",
    "    oof_score = metric(y, oof_predictions)\n",
    "    if print_is:\n",
    "        print(f\"CV-results train: {round(np.mean(fold_train_scores), 4)} +/- {round(np.std(fold_train_scores), 3)}\")\n",
    "        print(f\"CV-results valid: {round(np.mean(fold_valid_scores), 4)} +/- {round(np.std(fold_valid_scores), 3)}\")\n",
    "        print(f\"OOF-score = {round(oof_score, 4)}\")\n",
    "\n",
    "    return estimators, oof_score, fold_train_scores, fold_valid_scores, oof_predictions"
   ]
  },
  {
   "cell_type": "code",
   "execution_count": 10,
   "metadata": {},
   "outputs": [],
   "source": [
    "def balance_df_by_target(df, target_name):\n",
    "\n",
    "    target_counts = df[target_name].value_counts()\n",
    "\n",
    "    major_class_name = target_counts.argmax()\n",
    "    minor_class_name = target_counts.argmin()\n",
    "\n",
    "    disbalance_coeff = int(target_counts[major_class_name] / target_counts[minor_class_name]) - 1\n",
    "\n",
    "    for i in range(disbalance_coeff):\n",
    "        sample = df[df[target_name] == minor_class_name].sample(target_counts[minor_class_name])\n",
    "        df = df.append(sample, ignore_index=True)\n",
    "\n",
    "    return df.sample(frac=1) "
   ]
  },
  {
   "cell_type": "code",
   "execution_count": 11,
   "metadata": {},
   "outputs": [],
   "source": [
    "train[categorical_features] =train[categorical_features].astype('category')\n",
    "test[categorical_features] =test[categorical_features].astype('category')\n"
   ]
  },
  {
   "cell_type": "code",
   "execution_count": 12,
   "metadata": {},
   "outputs": [
    {
     "data": {
      "text/plain": [
       "dict_keys(['start', '1', '2', '3', '1-1', '1-2', '1-3', '2-1', '2-2', '2-3', '3-1', '3-2', '3-3', '4', '5', '6', '4-2', '5-2', '6-2'])"
      ]
     },
     "execution_count": 12,
     "metadata": {},
     "output_type": "execute_result"
    }
   ],
   "source": [
    "train_work.keys()"
   ]
  },
  {
   "cell_type": "code",
   "execution_count": 13,
   "metadata": {},
   "outputs": [],
   "source": [
    "for i in train_work:\n",
    "    a = categorical_features.copy()\n",
    "    a.remove('Purpose')\n",
    "    a.remove( 'Tax Liens')\n",
    "    if i in ['4-2','5-2','6-2']:\n",
    "        continue\n",
    "    train_work[i][categorical_features] =train_work[i][categorical_features].astype('category')\n",
    "    test_work[i][categorical_features] =train_work[i][categorical_features].astype('category')"
   ]
  },
  {
   "cell_type": "code",
   "execution_count": 25,
   "metadata": {},
   "outputs": [],
   "source": [
    "params_lgb = {\n",
    "    \"boosting_type\": \"gbdt\",\n",
    "    \"objective\": \"binary\",\n",
    "    \"metric\": \"auc\",\n",
    "    \"learning_rate\": 0.05,\n",
    "    \"n_jobs\": -1,\n",
    "    \"seed\": 27,\n",
    "    'reg_alpha': 2,\n",
    "    'reg_lambda': 460,\n",
    "    'max_depth': 4,\n",
    "    'min_child_samples':10,\n",
    "    'num_leaves':10    \n",
    "}\n"
   ]
  },
  {
   "cell_type": "code",
   "execution_count": 26,
   "metadata": {},
   "outputs": [],
   "source": [
    "params_lgb_sk_s = {\n",
    "    \"boosting_type\": \"gbdt\",\n",
    "    \"objective\": \"binary\",\n",
    "    \"metric\": \"auc\",\n",
    "    \"learning_rate\": 0.05,\n",
    "    \"n_estimators\": 100,\n",
    "    \"n_jobs\": -1,\n",
    "    \"seed\": 27,\n",
    "    'num_boost_round':2000,\n",
    "    \"early_stopping_rounds\":90,\n",
    "    'reg_alpha': 2,\n",
    "    'reg_lambda': 460,\n",
    "    'max_depth': 4,\n",
    "    'min_child_samples':10,\n",
    "    'num_leaves':10\n",
    "\n",
    "}"
   ]
  },
  {
   "cell_type": "code",
   "execution_count": 27,
   "metadata": {},
   "outputs": [],
   "source": [
    "params_lgb_sk = {\n",
    "     \"boosting_type\": \"gbdt\",\n",
    "    \"objective\": \"binary\",\n",
    "    \"metric\": \"auc\",\n",
    "    \"learning_rate\": 0.05,\n",
    "    \"n_estimators\": 100,\n",
    "    \"n_jobs\": -1,\n",
    "    \"seed\": 27,\n",
    "    'num_boost_round':2000,\n",
    "#     \"early_stopping_rounds\":90,\n",
    "    'reg_alpha': 2,\n",
    "    'reg_lambda': 460,\n",
    "    'max_depth': 4,\n",
    "    'min_child_samples':10,\n",
    "    'num_leaves':10\n",
    "\n",
    "}"
   ]
  },
  {
   "cell_type": "markdown",
   "metadata": {},
   "source": [
    "1. Обучение с применением отложенной выборки. Валидационная Выборка одна"
   ]
  },
  {
   "cell_type": "code",
   "execution_count": 28,
   "metadata": {},
   "outputs": [],
   "source": [
    "x_train, x_test,y_train,y_test = train_test_split(train.drop(target_col[0], axis=1),target, test_size=0.2,\\\n",
    "                                                              shuffle=True, random_state=1)"
   ]
  },
  {
   "cell_type": "code",
   "execution_count": 29,
   "metadata": {},
   "outputs": [
    {
     "data": {
      "text/plain": [
       "((6000, 16), (1500, 16))"
      ]
     },
     "execution_count": 29,
     "metadata": {},
     "output_type": "execute_result"
    }
   ],
   "source": [
    "x_train.shape, x_test.shape"
   ]
  },
  {
   "cell_type": "code",
   "execution_count": 30,
   "metadata": {},
   "outputs": [],
   "source": [
    "dtrain = lgb.Dataset(data = x_train,label=y_train)\n",
    "dvalid = lgb.Dataset(data=x_test,label=y_test)"
   ]
  },
  {
   "cell_type": "code",
   "execution_count": 31,
   "metadata": {},
   "outputs": [
    {
     "name": "stdout",
     "output_type": "stream",
     "text": [
      "Training until validation scores don't improve for 90 rounds\n",
      "[100]\ttraining's auc: 0.781605\tvalid_1's auc: 0.761305\n",
      "[200]\ttraining's auc: 0.791705\tvalid_1's auc: 0.764791\n",
      "[300]\ttraining's auc: 0.797587\tvalid_1's auc: 0.765949\n",
      "[400]\ttraining's auc: 0.803591\tvalid_1's auc: 0.767092\n",
      "[500]\ttraining's auc: 0.810148\tvalid_1's auc: 0.767749\n",
      "Early stopping, best iteration is:\n",
      "[478]\ttraining's auc: 0.808676\tvalid_1's auc: 0.768008\n"
     ]
    }
   ],
   "source": [
    "model = lgb.train(\n",
    "    params=params_lgb,\n",
    "    train_set=dtrain,\n",
    "    num_boost_round=10000,\n",
    "    valid_sets=[dtrain, dvalid],\n",
    "    categorical_feature=\"auto\",\n",
    "    early_stopping_rounds=90,\n",
    "    verbose_eval=100\n",
    ")"
   ]
  },
  {
   "cell_type": "code",
   "execution_count": null,
   "metadata": {},
   "outputs": [],
   "source": []
  },
  {
   "cell_type": "markdown",
   "metadata": {},
   "source": [
    "п.1 но с разными рандомами"
   ]
  },
  {
   "cell_type": "code",
   "execution_count": 32,
   "metadata": {},
   "outputs": [
    {
     "name": "stderr",
     "output_type": "stream",
     "text": [
      "100%|████████████████████████████████████████████████████████████████████████████████| 100/100 [00:58<00:00,  1.71it/s]"
     ]
    },
    {
     "name": "stdout",
     "output_type": "stream",
     "text": [
      "============================================================\n",
      "0.7734302268061691 0.01273728610901181 0.8053183692270689 0.7408009128450337\n",
      "Wall time: 58.3 s\n"
     ]
    },
    {
     "name": "stderr",
     "output_type": "stream",
     "text": [
      "\n"
     ]
    }
   ],
   "source": [
    "%%time\n",
    "res_2=[]\n",
    "for i in tqdm(range(100)):\n",
    "   \n",
    "    x_train, x_valid,y_train,y_valid = train_test_split(train,target, test_size=0.2,\\\n",
    "                                shuffle=True, random_state=np.random.randint(1000))\n",
    "    \n",
    "#     print(x_valid.shape,x_test.shape)\n",
    "    \n",
    "    model_1 =lgb.LGBMClassifier(**params_lgb_sk_s)\n",
    "    model_1.fit(drop_target(x_train), y_train, \\\n",
    "          eval_set=[(drop_target(x_train), y_train),(drop_target(x_valid),y_valid)],eval_metric = 'auc',verbose=None) \n",
    "    y_test_pred = model_1.predict_proba(drop_target(x_valid))[:,1]\n",
    "    res_2.append(roc_auc_score(y_valid,y_test_pred))\n",
    "#     print(res_2[-1])\n",
    "#     print(model_1.best_score_)\n",
    "a = np.array(res_2) \n",
    "print('='*60)\n",
    "print(a.mean(),a.std(),a.max(),a.min())"
   ]
  },
  {
   "cell_type": "markdown",
   "metadata": {},
   "source": [
    "2. Обучение без использования отложенной выборки (одна отложенная выборка)"
   ]
  },
  {
   "cell_type": "code",
   "execution_count": 33,
   "metadata": {},
   "outputs": [],
   "source": [
    "model = lgb.train(\n",
    "    params=params_lgb,\n",
    "    train_set=dtrain,\n",
    "    num_boost_round=1000,\n",
    "    valid_sets=[dtrain],\n",
    "    categorical_feature=\"auto\",\n",
    "    early_stopping_rounds=90,\n",
    "    verbose_eval=None\n",
    ")"
   ]
  },
  {
   "cell_type": "code",
   "execution_count": 34,
   "metadata": {},
   "outputs": [
    {
     "data": {
      "text/plain": [
       "0.7661374407062785"
      ]
     },
     "execution_count": 34,
     "metadata": {},
     "output_type": "execute_result"
    }
   ],
   "source": [
    "roc_auc_score(y_test,model.predict(x_test))"
   ]
  },
  {
   "cell_type": "markdown",
   "metadata": {},
   "source": [
    "п.2 на разных рандомах"
   ]
  },
  {
   "cell_type": "code",
   "execution_count": 35,
   "metadata": {},
   "outputs": [
    {
     "name": "stderr",
     "output_type": "stream",
     "text": [
      "100%|████████████████████████████████████████████████████████████████████████████████| 100/100 [02:08<00:00,  1.28s/it]"
     ]
    },
    {
     "name": "stdout",
     "output_type": "stream",
     "text": [
      "============================================================\n",
      "0.7745746877180087 0.011747076737498804 0.8053183692270689 0.7408009128450337\n",
      "Wall time: 2min 8s\n"
     ]
    },
    {
     "name": "stderr",
     "output_type": "stream",
     "text": [
      "\n"
     ]
    }
   ],
   "source": [
    "%%time\n",
    "for i in tqdm(range(100)):\n",
    "   \n",
    "    x_train, x_valid,y_train,y_valid = train_test_split(train,target, test_size=0.2,\\\n",
    "                                                              shuffle=True, random_state=np.random.randint(1000))\n",
    "    \n",
    "#     print(x_valid.shape,x_test.shape)\n",
    "    \n",
    "    model_1 =lgb.LGBMClassifier(**params_lgb_sk_s)\n",
    "    model_1.fit(drop_target(x_train), y_train, \\\n",
    "          eval_set=[(drop_target(x_train), y_train)],eval_metric = 'auc',verbose=None) \n",
    "    y_test_pred = model_1.predict_proba(drop_target(x_valid))[:,1]\n",
    "    res_2.append(roc_auc_score(y_valid,y_test_pred))\n",
    "#     print(res_2[-1])\n",
    "#     print(model_1.best_score_)\n",
    "a = np.array(res_2) \n",
    "print('='*60)\n",
    "print(a.mean(),a.std(),a.max(),a.min())"
   ]
  },
  {
   "cell_type": "markdown",
   "metadata": {},
   "source": [
    "3. Обучение с мспользованием двух отложенных выборок. Первая учавствует в обучении, вторая на валидации"
   ]
  },
  {
   "cell_type": "code",
   "execution_count": 36,
   "metadata": {},
   "outputs": [],
   "source": [
    "x_train, x_valid,y_train,y_valid = train_test_split(drop_target(train),target, test_size=0.3,\\\n",
    "                                                              shuffle=True, random_state=100)\n"
   ]
  },
  {
   "cell_type": "code",
   "execution_count": 37,
   "metadata": {},
   "outputs": [],
   "source": [
    "x_valid, x_test,y_valid,y_test = train_test_split(x_valid,y_valid, test_size=0.5,\\\n",
    "                                                              shuffle=True, random_state=100)"
   ]
  },
  {
   "cell_type": "code",
   "execution_count": 38,
   "metadata": {},
   "outputs": [],
   "source": [
    "dtrain = lgb.Dataset(data = x_train,label=y_train)\n",
    "dvalid = lgb.Dataset(data = x_valid,label=y_valid)"
   ]
  },
  {
   "cell_type": "code",
   "execution_count": 39,
   "metadata": {},
   "outputs": [
    {
     "name": "stdout",
     "output_type": "stream",
     "text": [
      "Training until validation scores don't improve for 90 rounds\n",
      "[100]\ttraining's auc: 0.779896\tvalid_1's auc: 0.787121\n",
      "[200]\ttraining's auc: 0.790775\tvalid_1's auc: 0.791359\n",
      "[300]\ttraining's auc: 0.798359\tvalid_1's auc: 0.792205\n",
      "[400]\ttraining's auc: 0.804439\tvalid_1's auc: 0.793146\n",
      "[500]\ttraining's auc: 0.811179\tvalid_1's auc: 0.793758\n",
      "[600]\ttraining's auc: 0.816053\tvalid_1's auc: 0.793987\n",
      "[700]\ttraining's auc: 0.820474\tvalid_1's auc: 0.794592\n",
      "[800]\ttraining's auc: 0.824352\tvalid_1's auc: 0.794955\n",
      "Early stopping, best iteration is:\n",
      "[759]\ttraining's auc: 0.822804\tvalid_1's auc: 0.795066\n"
     ]
    }
   ],
   "source": [
    "model = lgb.train(\n",
    "    params=params_lgb,\n",
    "    train_set=dtrain,\n",
    "    num_boost_round=10000,\n",
    "    valid_sets=[dtrain, dvalid],\n",
    "    categorical_feature=\"auto\",\n",
    "    early_stopping_rounds=90,\n",
    "    verbose_eval=100\n",
    ")"
   ]
  },
  {
   "cell_type": "code",
   "execution_count": 40,
   "metadata": {},
   "outputs": [
    {
     "data": {
      "text/plain": [
       "0.7514281132104291"
      ]
     },
     "execution_count": 40,
     "metadata": {},
     "output_type": "execute_result"
    }
   ],
   "source": [
    "roc_auc_score(y_test,model.predict(x_test))"
   ]
  },
  {
   "cell_type": "markdown",
   "metadata": {},
   "source": [
    "п.3 на разных рандомах"
   ]
  },
  {
   "cell_type": "code",
   "execution_count": 41,
   "metadata": {},
   "outputs": [
    {
     "name": "stderr",
     "output_type": "stream",
     "text": [
      "100%|████████████████████████████████████████████████████████████████████████████████| 100/100 [00:51<00:00,  1.95it/s]"
     ]
    },
    {
     "name": "stdout",
     "output_type": "stream",
     "text": [
      "============================================================\n",
      "0.7688465618798831 0.01601289601059654 0.8110023796995138 0.7241750776397515\n",
      "Wall time: 51.3 s\n"
     ]
    },
    {
     "name": "stderr",
     "output_type": "stream",
     "text": [
      "\n"
     ]
    }
   ],
   "source": [
    "%%time\n",
    "res_2 = []\n",
    "for i in tqdm(range(100)):\n",
    "   \n",
    "    x_train, x_valid,y_train,y_valid = train_test_split(drop_target(train),target, test_size=0.3,\\\n",
    "                                            shuffle=True, random_state=np.random.randint(1000))\n",
    "    x_valid, x_test,y_valid,y_test = train_test_split(x_valid,y_valid, test_size=0.5,\\\n",
    "                                            shuffle=True, random_state=np.random.randint(1000))\n",
    "#     print(x_valid.shape,x_test.shape)\n",
    "\n",
    "    model_1 =lgb.LGBMClassifier(**params_lgb_sk_s)\n",
    "    model_1.fit(x_train, y_train, \\\n",
    "          eval_set=[(x_train, y_train),(x_valid,y_valid)],eval_metric = 'auc',verbose=None) \n",
    "    y_test_pred = model_1.predict_proba(x_test)[:,1]\n",
    "    a = roc_auc_score(y_test,y_test_pred)\n",
    "    res_2.append(a)\n",
    "#     print(a,roc_auc_score(y_valid,model_1.predict_proba(x_valid)[:,1]))\n",
    "#     print(res_2[-1])\n",
    "#     print(model_1.best_score_)\n",
    "a = np.array(res_2) \n",
    "print('='*60)\n",
    "print(a.mean(),a.std(),a.max(),a.min())"
   ]
  },
  {
   "cell_type": "markdown",
   "metadata": {},
   "source": [
    "Крос валидация"
   ]
  },
  {
   "cell_type": "code",
   "execution_count": 43,
   "metadata": {},
   "outputs": [],
   "source": [
    "cv_strategy = KFold(n_splits=5, shuffle=True, random_state=100)"
   ]
  },
  {
   "cell_type": "code",
   "execution_count": 44,
   "metadata": {},
   "outputs": [],
   "source": [
    "params_lgb_sk_s = {\n",
    "    \"boosting_type\": \"gbdt\",\n",
    "    \"objective\": \"binary\",\n",
    "    \"metric\": \"auc\",\n",
    "    \"learning_rate\": 0.05,\n",
    "    \"n_estimators\": 100,\n",
    "    \"n_jobs\": 15,\n",
    "    \"seed\": 27,\n",
    "    'num_boost_round':2000,\n",
    "    \"early_stopping_rounds\":90,\n",
    "    'reg_alpha': 2,\n",
    "    'reg_lambda': 460,\n",
    "    'max_depth': 4,\n",
    "    'min_child_samples':10,\n",
    "    'num_leaves':10\n",
    "\n",
    "}\n",
    "model_sk=lgb.LGBMClassifier(**params_lgb_sk_s)"
   ]
  },
  {
   "cell_type": "code",
   "execution_count": 72,
   "metadata": {},
   "outputs": [
    {
     "name": "stdout",
     "output_type": "stream",
     "text": [
      "Fold: 1, train-observations = 6000, valid-observations = 1500\n",
      "train-score = 0.843, valid-score = 0.7938\n",
      "=====================================================================\n",
      "Fold: 2, train-observations = 6000, valid-observations = 1500\n",
      "train-score = 0.8451, valid-score = 0.7746\n",
      "=====================================================================\n",
      "Fold: 3, train-observations = 6000, valid-observations = 1500\n",
      "train-score = 0.846, valid-score = 0.7812\n",
      "=====================================================================\n",
      "Fold: 4, train-observations = 6000, valid-observations = 1500\n",
      "train-score = 0.8482, valid-score = 0.7792\n",
      "=====================================================================\n",
      "Fold: 5, train-observations = 6000, valid-observations = 1500\n",
      "train-score = 0.847, valid-score = 0.7566\n",
      "=====================================================================\n",
      "CV-results train: 0.8459 +/- 0.002\n",
      "CV-results valid: 0.7771 +/- 0.012\n",
      "OOF-score = 0.7764\n",
      "Wall time: 5.59 s\n"
     ]
    }
   ],
   "source": [
    "%%time\n",
    "res = make_cross_validation(\n",
    "    drop_target(train_work['3-3']), target, model_sk, metric=roc_auc_score, cv_strategy=cv_strategy\n",
    "            )"
   ]
  },
  {
   "cell_type": "markdown",
   "metadata": {},
   "source": [
    "Крос валидация на разных рандомах"
   ]
  },
  {
   "cell_type": "code",
   "execution_count": 54,
   "metadata": {},
   "outputs": [
    {
     "name": "stderr",
     "output_type": "stream",
     "text": [
      "100%|████████████████████████████████████████████████████████████████████████████████| 100/100 [11:12<00:00,  6.73s/it]"
     ]
    },
    {
     "name": "stdout",
     "output_type": "stream",
     "text": [
      "============================================================\n",
      "0.7735865566883728 0.001751720016253073 0.777263558279643 0.7676363431587728\n",
      "Wall time: 11min 12s\n"
     ]
    },
    {
     "name": "stderr",
     "output_type": "stream",
     "text": [
      "\n"
     ]
    }
   ],
   "source": [
    "%%time\n",
    "n = 100\n",
    "res_all=[]\n",
    "for i in tqdm(range(n)):\n",
    "    fold = KFold(n_splits=5, shuffle=True, random_state=i)\n",
    "    res = make_cross_validation(\n",
    "    drop_target(train_work['3-3']), target, model_sk, metric=roc_auc_score,\\\n",
    "        cv_strategy=fold,print_is=False\n",
    "            )\n",
    "    res_all.append(res[1])\n",
    "a = np.array(res_all) \n",
    "print('='*60)\n",
    "print(a.mean(),a.std(),a.max(),a.min())\n",
    "    "
   ]
  },
  {
   "cell_type": "code",
   "execution_count": 51,
   "metadata": {},
   "outputs": [
    {
     "data": {
      "text/plain": [
       "<BarContainer object of 16 artists>"
      ]
     },
     "execution_count": 51,
     "metadata": {},
     "output_type": "execute_result"
    },
    {
     "data": {
      "image/png": "[encoded data removed]",
      "text/plain": [
       "<Figure size 1440x1080 with 1 Axes>"
      ]
     },
     "metadata": {
      "needs_background": "light"
     },
     "output_type": "display_data"
    }
   ],
   "source": [
    "model_sk.feature_importances_\n",
    "d = list(zip(test.columns.to_list(),model_sk.feature_importances_))\n",
    "x = list(map(lambda x:x[0],(sorted(d,key = lambda x: x[1],reverse=True))))\n",
    "y = list(map(lambda x:x[1],(sorted(d,key = lambda x: x[1],reverse=True))))\n",
    "fig = plt.figure(figsize=(20,15))\n",
    "plt.bar(x,y)\n"
   ]
  },
  {
   "cell_type": "code",
   "execution_count": 52,
   "metadata": {},
   "outputs": [
    {
     "data": {
      "text/plain": [
       "['Current Loan Amount',\n",
       " 'Credit Score',\n",
       " 'Annual Income',\n",
       " 'Monthly Debt',\n",
       " 'Current Credit Balance',\n",
       " 'Maximum Open Credit',\n",
       " 'Years of Credit History',\n",
       " 'Months since last delinquent',\n",
       " 'Years in current job',\n",
       " 'Number of Open Accounts',\n",
       " 'Purpose',\n",
       " 'Term',\n",
       " 'Home Ownership']"
      ]
     },
     "execution_count": 52,
     "metadata": {},
     "output_type": "execute_result"
    }
   ],
   "source": [
    "importance = x[:-3]\n",
    "importance"
   ]
  },
  {
   "cell_type": "code",
   "execution_count": null,
   "metadata": {},
   "outputs": [],
   "source": []
  },
  {
   "cell_type": "code",
   "execution_count": 916,
   "metadata": {},
   "outputs": [],
   "source": []
  },
  {
   "cell_type": "markdown",
   "metadata": {},
   "source": [
    "Сравним наоры данных по фолдам крос валидации"
   ]
  },
  {
   "cell_type": "code",
   "execution_count": 55,
   "metadata": {},
   "outputs": [
    {
     "name": "stdout",
     "output_type": "stream",
     "text": [
      "[nan nan nan nan nan]\n",
      "[nan nan nan nan nan]\n",
      "[nan nan nan nan nan]\n",
      "[nan nan nan nan nan]\n",
      "[nan nan nan nan nan]\n",
      "[nan nan nan nan nan]\n",
      "[nan nan nan nan nan]\n",
      "[nan nan nan nan nan]\n",
      "[nan nan nan nan nan]\n",
      "[nan nan nan nan nan]\n",
      "[nan nan nan nan nan]\n",
      "[nan nan nan nan nan]\n",
      "[nan nan nan nan nan]\n",
      "[nan nan nan nan nan]\n",
      "[nan nan nan nan nan]\n",
      "[nan nan nan nan nan]\n",
      "[nan nan nan nan nan]\n",
      "[nan nan nan nan nan]\n",
      "[nan nan nan nan nan]\n",
      "[nan nan nan nan nan]\n",
      "[nan nan nan nan nan]\n",
      "[nan nan nan nan nan]\n",
      "[nan nan nan nan nan]\n",
      "[nan nan nan nan nan]\n",
      "[nan nan nan nan nan]\n",
      "[nan nan nan nan nan]\n",
      "[nan nan nan nan nan]\n",
      "[nan nan nan nan nan]\n",
      "[nan nan nan nan nan]\n",
      "[nan nan nan nan nan]\n",
      "[nan nan nan nan nan]\n",
      "[nan nan nan nan nan]\n",
      "[nan nan nan nan nan]\n",
      "[nan nan nan nan nan]\n",
      "[nan nan nan nan nan]\n",
      "[nan nan nan nan nan]\n",
      "[nan nan nan nan nan]\n",
      "[nan nan nan nan nan]\n",
      "[nan nan nan nan nan]\n",
      "[nan nan nan nan nan]\n",
      "[nan nan nan nan nan]\n",
      "[nan nan nan nan nan]\n",
      "[nan nan nan nan nan]\n",
      "[nan nan nan nan nan]\n",
      "[nan nan nan nan nan]\n",
      "[nan nan nan nan nan]\n",
      "[nan nan nan nan nan]\n",
      "[nan nan nan nan nan]\n",
      "[nan nan nan nan nan]\n",
      "[nan nan nan nan nan]\n",
      "Wall time: 4.56 s\n"
     ]
    }
   ],
   "source": [
    "%%time\n",
    "base_score = np.array([])\n",
    "model = lgb.LGBMClassifier(**params_lgb_sk)\n",
    "\n",
    "for i in range(50):\n",
    "    fold = KFold(n_splits=5, shuffle=True, random_state=i)\n",
    "    scores = cross_val_score(\n",
    "        estimator=model_sk,\n",
    "        X=drop_target(train),\n",
    "        y=target,\n",
    "        scoring='roc_auc',\n",
    "        cv=fold\n",
    "    )\n",
    "    print(scores)\n",
    "    base_score = np.append(base_score, scores)"
   ]
  },
  {
   "cell_type": "code",
   "execution_count": 605,
   "metadata": {},
   "outputs": [
    {
     "name": "stderr",
     "output_type": "stream",
     "text": [
      "100%|█████████████████████████████████████████████████████████████████████████████████| 19/19 [34:09<00:00, 107.85s/it]"
     ]
    },
    {
     "name": "stdout",
     "output_type": "stream",
     "text": [
      "Wall time: 34min 9s\n"
     ]
    },
    {
     "name": "stderr",
     "output_type": "stream",
     "text": [
      "\n"
     ]
    },
    {
     "data": {
      "text/plain": [
       "Text(0, 0.5, 't-statistic')"
      ]
     },
     "execution_count": 605,
     "metadata": {},
     "output_type": "execute_result"
    },
    {
     "data": {
      "image/png": "[encoded data removed]",
      "text/plain": [
       "<Figure size 432x288 with 1 Axes>"
      ]
     },
     "metadata": {
      "needs_background": "light"
     },
     "output_type": "display_data"
    }
   ],
   "source": [
    "%%time\n",
    "d = []\n",
    "\n",
    "for n,i in train_work.items():\n",
    "    k=i.copy()    \n",
    "\n",
    "    d.append((n,k))\n",
    "t_stats, n_trees = [], []\n",
    "j = 1\n",
    "for data in tqdm(d):\n",
    "    current_score = np.array([])\n",
    "    for i in range(50):\n",
    "        fold = KFold(n_splits=5, shuffle=True, random_state=i)\n",
    "        scores = cross_val_score(\n",
    "            estimator=model_sk,\n",
    "            X=drop_target(data[1]),\n",
    "            y=target,\n",
    "            scoring='roc_auc',\n",
    "            cv=fold,\n",
    "            n_jobs=-1\n",
    "        )\n",
    "        current_score = np.append(current_score, scores)\n",
    "\n",
    "    t_stat, p_value = ttest_rel(current_score, base_score)\n",
    "    t_stats.append(t_stat)\n",
    "    n_trees.append(data[0])\n",
    "\n",
    "plt.plot(n_trees, t_stats)\n",
    "plt.xlabel('n_estimators')\n",
    "plt.ylabel('t-statistic')"
   ]
  },
  {
   "cell_type": "code",
   "execution_count": 606,
   "metadata": {},
   "outputs": [
    {
     "data": {
      "text/plain": [
       "[nan,\n",
       " -21.502223037636462,\n",
       " -11.662904897783804,\n",
       " 6.042819352378845,\n",
       " -21.502223037636462,\n",
       " -11.662904897783804,\n",
       " 6.631920759724058,\n",
       " -21.502223037636462,\n",
       " -11.662904897783804,\n",
       " 6.631920759724058,\n",
       " -21.502223037636462,\n",
       " -11.662904897783804,\n",
       " 6.631920759724058,\n",
       " -37.57141337175088,\n",
       " nan,\n",
       " 3.1217209255351,\n",
       " -36.48132052075534,\n",
       " -6.131475587862104,\n",
       " -3.8083082028819852]"
      ]
     },
     "execution_count": 606,
     "metadata": {},
     "output_type": "execute_result"
    }
   ],
   "source": [
    "t_stats"
   ]
  },
  {
   "cell_type": "code",
   "execution_count": 607,
   "metadata": {},
   "outputs": [
    {
     "data": {
      "text/plain": [
       "['start',\n",
       " '1',\n",
       " '2',\n",
       " '3',\n",
       " '1-1',\n",
       " '1-2',\n",
       " '1-3',\n",
       " '2-1',\n",
       " '2-2',\n",
       " '2-3',\n",
       " '3-1',\n",
       " '3-2',\n",
       " '3-3',\n",
       " '4',\n",
       " '5',\n",
       " '6',\n",
       " '4-2',\n",
       " '5-2',\n",
       " '6-2']"
      ]
     },
     "execution_count": 607,
     "metadata": {},
     "output_type": "execute_result"
    }
   ],
   "source": [
    "n_trees"
   ]
  },
  {
   "cell_type": "markdown",
   "metadata": {},
   "source": [
    "Балансировка признаков"
   ]
  },
  {
   "cell_type": "code",
   "execution_count": 323,
   "metadata": {},
   "outputs": [],
   "source": [
    "x_train, x_valid,y_train,y_valid = train_test_split(train,target, test_size=0.3,\\\n",
    "                                                              shuffle=True, random_state=89)\n"
   ]
  },
  {
   "cell_type": "code",
   "execution_count": 324,
   "metadata": {},
   "outputs": [],
   "source": [
    "x_valid, x_test,y_valid,y_test = train_test_split(x_valid,y_valid, test_size=0.5,\\\n",
    "                                                              shuffle=True, random_state=89)"
   ]
  },
  {
   "cell_type": "code",
   "execution_count": 325,
   "metadata": {},
   "outputs": [],
   "source": [
    "train_balanced = balance_df_by_target(x_train, target_col[0])\n"
   ]
  },
  {
   "cell_type": "code",
   "execution_count": 326,
   "metadata": {},
   "outputs": [],
   "source": [
    "target_balanced = train_balanced[target_col[0]]"
   ]
  },
  {
   "cell_type": "code",
   "execution_count": 327,
   "metadata": {},
   "outputs": [
    {
     "name": "stdout",
     "output_type": "stream",
     "text": [
      "Fold: 1, train-observations = 5353, valid-observations = 1339\n",
      "train-score = 0.853, valid-score = 0.8131\n",
      "=====================================================================\n",
      "Fold: 2, train-observations = 5353, valid-observations = 1339\n",
      "train-score = 0.8546, valid-score = 0.7944\n",
      "=====================================================================\n",
      "Fold: 3, train-observations = 5354, valid-observations = 1338\n",
      "train-score = 0.8517, valid-score = 0.7906\n",
      "=====================================================================\n",
      "Fold: 4, train-observations = 5354, valid-observations = 1338\n",
      "train-score = 0.8511, valid-score = 0.7991\n",
      "=====================================================================\n",
      "Fold: 5, train-observations = 5354, valid-observations = 1338\n",
      "train-score = 0.8522, valid-score = 0.7913\n",
      "=====================================================================\n",
      "CV-results train: 0.8525 +/- 0.001\n",
      "CV-results valid: 0.7977 +/- 0.008\n",
      "OOF-score = 0.7974\n"
     ]
    }
   ],
   "source": [
    "res_ = make_cross_validation(\n",
    "    drop_target(train_balanced), target_balanced, model_sk, metric=roc_auc_score, cv_strategy=cv_strategy\n",
    "            )"
   ]
  },
  {
   "cell_type": "markdown",
   "metadata": {},
   "source": [
    "Обучим на сбалансированной, с учетом валидации первой отложенной выборки и контроля на второй отложенной выборке"
   ]
  },
  {
   "cell_type": "code",
   "execution_count": 328,
   "metadata": {},
   "outputs": [
    {
     "data": {
      "text/plain": [
       "LGBMClassifier(early_stopping_rounds=90, learning_rate=0.05, max_depth=4,\n",
       "               metric='auc', min_child_samples=30, n_jobs=15,\n",
       "               num_boost_round=2000, objective='binary', reg_alpha=10,\n",
       "               reg_lambda=500, seed=27)"
      ]
     },
     "execution_count": 328,
     "metadata": {},
     "output_type": "execute_result"
    }
   ],
   "source": [
    "model_sk.fit(drop_target(train_balanced), target_balanced, \\\n",
    "          eval_set=[(drop_target(train_balanced), target_balanced),(drop_target(x_valid),y_valid)],eval_metric = 'auc',verbose=None) "
   ]
  },
  {
   "cell_type": "code",
   "execution_count": 329,
   "metadata": {},
   "outputs": [
    {
     "data": {
      "text/plain": [
       "defaultdict(collections.OrderedDict,\n",
       "            {'valid_0': OrderedDict([('auc', 0.8253015405191203)]),\n",
       "             'valid_1': OrderedDict([('auc', 0.7596420372090881)])})"
      ]
     },
     "execution_count": 329,
     "metadata": {},
     "output_type": "execute_result"
    }
   ],
   "source": [
    "model_sk.best_score_"
   ]
  },
  {
   "cell_type": "code",
   "execution_count": 330,
   "metadata": {},
   "outputs": [],
   "source": [
    "y_test_pred = model_sk.predict_proba(drop_target(x_test))[:,1]"
   ]
  },
  {
   "cell_type": "code",
   "execution_count": 331,
   "metadata": {},
   "outputs": [
    {
     "data": {
      "text/plain": [
       "0.7809698996655519"
      ]
     },
     "execution_count": 331,
     "metadata": {},
     "output_type": "execute_result"
    }
   ],
   "source": [
    "roc_auc_score(y_test,y_test_pred)"
   ]
  },
  {
   "cell_type": "code",
   "execution_count": 334,
   "metadata": {},
   "outputs": [
    {
     "name": "stderr",
     "output_type": "stream",
     "text": [
      "100%|████████████████████████████████████████████████████████████████████████████████| 100/100 [00:49<00:00,  2.03it/s]"
     ]
    },
    {
     "name": "stdout",
     "output_type": "stream",
     "text": [
      "============================================================\n",
      "0.7680941752328302 0.016173995654417454 0.8132205879013148 0.7315355483131148\n",
      "Wall time: 49.2 s\n"
     ]
    },
    {
     "name": "stderr",
     "output_type": "stream",
     "text": [
      "\n"
     ]
    }
   ],
   "source": [
    "%%time\n",
    "res_2 = []\n",
    "for i in tqdm( range(100)):\n",
    "   \n",
    "    x_train, x_valid,y_train,y_valid = train_test_split(train,target, test_size=0.3,\\\n",
    "                                                              shuffle=True, random_state=np.random.randint(1000))\n",
    "    x_valid, x_test,y_valid,y_test = train_test_split(x_valid,y_valid, test_size=0.5,\\\n",
    "                                                              shuffle=True, random_state=np.random.randint(1000))\n",
    "#     print(x_valid.shape,x_test.shape)\n",
    "    train_balanced = balance_df_by_target(x_train, target_col[0])\n",
    "    target_balanced = train_balanced[target_col[0]]\n",
    "    model_1 =lgb.LGBMClassifier(**params_lgb_sk_s)\n",
    "    model_1.fit(drop_target(train_balanced), target_balanced, \\\n",
    "          eval_set=[(drop_target(train_balanced), target_balanced),\\\n",
    "                    (drop_target(x_valid),y_valid)],eval_metric = 'auc',verbose=None) \n",
    "    y_test_pred = model_1.predict_proba(drop_target(x_test))[:,1]\n",
    "    res_2.append(roc_auc_score(y_test,y_test_pred))\n",
    "#     print(res_2[-1])\n",
    "#     print(model_1.best_score_)\n",
    "a = np.array(res_2) \n",
    "print('='*60)\n",
    "print(a.mean(),a.std(),a.max(),a.min())\n",
    "    \n",
    "    "
   ]
  },
  {
   "cell_type": "markdown",
   "metadata": {},
   "source": [
    "Adversarial validation"
   ]
  },
  {
   "cell_type": "code",
   "execution_count": 335,
   "metadata": {},
   "outputs": [],
   "source": [
    "a = drop_target(train)\n",
    "b = test.copy()\n",
    "\n",
    "x_adv = pd.concat([\n",
    "    a, b], axis=0\n",
    ")\n",
    "y_adv = np.hstack((np.zeros(train.shape[0]), np.ones(test.shape[0])))\n",
    "assert x_adv.shape[0] == y_adv.shape[0]\n",
    "x_adv = x_adv.reset_index(drop=True)\n",
    "x_adv[categorical_features]=x_adv[categorical_features].astype('category')"
   ]
  },
  {
   "cell_type": "code",
   "execution_count": 336,
   "metadata": {},
   "outputs": [],
   "source": [
    "p = {\n",
    "    \"boosting_type\": \"gbdt\",\n",
    "    \"objective\": \"binary\",\n",
    "    \"metric\": \"auc\",\n",
    "    \"learning_rate\": 0.05,\n",
    "    \"n_estimators\": 10,\n",
    "    \"n_jobs\": 15,\n",
    "    \"seed\": 28,\n",
    "    'num_boost_round':1000,\n",
    "#     \"early_stopping_rounds\":90, \n",
    "    'reg_alpha': 7,\n",
    "    'reg_lambda': 10,\n",
    "    'max_depth': 4,\n",
    "    'min_child_samples':60,\n",
    "#     'min_split_gain':1\n",
    "#     'categorical_feature':categorical_features,\n",
    "}"
   ]
  },
  {
   "cell_type": "code",
   "execution_count": 337,
   "metadata": {},
   "outputs": [],
   "source": [
    "m = lgb.LGBMClassifier(**p)"
   ]
  },
  {
   "cell_type": "code",
   "execution_count": 338,
   "metadata": {},
   "outputs": [
    {
     "data": {
      "text/plain": [
       "{'boosting_type': 'gbdt',\n",
       " 'class_weight': None,\n",
       " 'colsample_bytree': 1.0,\n",
       " 'importance_type': 'split',\n",
       " 'learning_rate': 0.05,\n",
       " 'max_depth': 4,\n",
       " 'min_child_samples': 60,\n",
       " 'min_child_weight': 0.001,\n",
       " 'min_split_gain': 0.0,\n",
       " 'n_estimators': 10,\n",
       " 'n_jobs': 15,\n",
       " 'num_leaves': 31,\n",
       " 'objective': 'binary',\n",
       " 'random_state': None,\n",
       " 'reg_alpha': 7,\n",
       " 'reg_lambda': 10,\n",
       " 'silent': True,\n",
       " 'subsample': 1.0,\n",
       " 'subsample_for_bin': 200000,\n",
       " 'subsample_freq': 0,\n",
       " 'metric': 'auc',\n",
       " 'seed': 28,\n",
       " 'num_boost_round': 1000}"
      ]
     },
     "execution_count": 338,
     "metadata": {},
     "output_type": "execute_result"
    }
   ],
   "source": [
    "m.get_params()"
   ]
  },
  {
   "cell_type": "code",
   "execution_count": 339,
   "metadata": {},
   "outputs": [
    {
     "data": {
      "text/plain": [
       "LGBMClassifier(learning_rate=0.05, max_depth=4, metric='auc',\n",
       "               min_child_samples=60, n_estimators=10, n_jobs=15,\n",
       "               num_boost_round=1000, objective='binary', reg_alpha=7,\n",
       "               reg_lambda=10, seed=28)"
      ]
     },
     "execution_count": 339,
     "metadata": {},
     "output_type": "execute_result"
    }
   ],
   "source": [
    "m.fit(x_adv,y_adv,eval_set=[(x_adv, y_adv)],eval_metric = 'auc',verbose=None)"
   ]
  },
  {
   "cell_type": "code",
   "execution_count": 340,
   "metadata": {},
   "outputs": [
    {
     "data": {
      "text/plain": [
       "defaultdict(collections.OrderedDict,\n",
       "            {'training': OrderedDict([('auc', 0.8352532266666667)])})"
      ]
     },
     "execution_count": 340,
     "metadata": {},
     "output_type": "execute_result"
    }
   ],
   "source": [
    "m.best_score_"
   ]
  },
  {
   "cell_type": "code",
   "execution_count": 341,
   "metadata": {},
   "outputs": [
    {
     "name": "stdout",
     "output_type": "stream",
     "text": [
      "0.8353\n"
     ]
    }
   ],
   "source": [
    "y_pred_adv = m.predict_proba(x_adv)\n",
    "score = roc_auc_score(y_adv, y_pred_adv[:, 1])\n",
    "print(round(score, 4))"
   ]
  },
  {
   "cell_type": "code",
   "execution_count": 342,
   "metadata": {},
   "outputs": [],
   "source": [
    "y_pred = m.predict_proba(drop_target(train))"
   ]
  },
  {
   "cell_type": "code",
   "execution_count": 343,
   "metadata": {},
   "outputs": [
    {
     "data": {
      "text/plain": [
       "array([0.12760852, 0.29923465, 0.2137849 , ..., 0.2875651 , 0.08428465,\n",
       "       0.18514615])"
      ]
     },
     "execution_count": 343,
     "metadata": {},
     "output_type": "execute_result"
    }
   ],
   "source": [
    "y_pred=y_pred[:, 1]\n",
    "y_pred"
   ]
  },
  {
   "cell_type": "code",
   "execution_count": 344,
   "metadata": {},
   "outputs": [
    {
     "data": {
      "text/plain": [
       "(0.0, 0.1]      91\n",
       "(0.1, 0.2]    2938\n",
       "(0.2, 0.3]    3477\n",
       "(0.3, 0.4]     894\n",
       "(0.4, 0.5]      96\n",
       "(0.5, 0.6]       4\n",
       "(0.6, 0.7]       0\n",
       "(0.7, 0.8]       0\n",
       "(0.8, 0.9]       0\n",
       "(0.9, 1.0]       0\n",
       "dtype: int64"
      ]
     },
     "execution_count": 344,
     "metadata": {},
     "output_type": "execute_result"
    }
   ],
   "source": [
    "pd.cut(\n",
    "    y_pred, bins=np.arange(0, 1.01, 0.1)\n",
    ").value_counts().sort_index()"
   ]
  },
  {
   "cell_type": "code",
   "execution_count": 345,
   "metadata": {},
   "outputs": [],
   "source": [
    "idx_val= np.where(y_pred>0.3)\n",
    "idx_tr = np.where(y_pred<=0.3)"
   ]
  },
  {
   "cell_type": "code",
   "execution_count": 346,
   "metadata": {},
   "outputs": [],
   "source": [
    "X_valid = train.loc[idx_val]\n",
    "X_train = train.loc[idx_tr]\n",
    "\n",
    "Y_valid = X_valid[target_col[0]]\n",
    "Y_train = X_train[target_col[0]]\n",
    "\n",
    "X_valid = drop_target(train.loc[idx_val])\n",
    "X_train = drop_target(train.loc[idx_tr])\n"
   ]
  },
  {
   "cell_type": "code",
   "execution_count": 861,
   "metadata": {},
   "outputs": [],
   "source": [
    "# model_sk = lgb.LGBMClassifier(**p)"
   ]
  },
  {
   "cell_type": "code",
   "execution_count": null,
   "metadata": {},
   "outputs": [],
   "source": []
  },
  {
   "cell_type": "code",
   "execution_count": 347,
   "metadata": {},
   "outputs": [
    {
     "data": {
      "text/plain": [
       "LGBMClassifier(early_stopping_rounds=90, learning_rate=0.05, max_depth=4,\n",
       "               metric='auc', min_child_samples=30, n_jobs=15,\n",
       "               num_boost_round=2000, objective='binary', reg_alpha=10,\n",
       "               reg_lambda=500, seed=27)"
      ]
     },
     "execution_count": 347,
     "metadata": {},
     "output_type": "execute_result"
    }
   ],
   "source": [
    "model_sk.fit(X_train,Y_train,eval_set=[(X_train,Y_train),(X_valid,Y_valid)],eval_metric = 'auc',verbose=None)"
   ]
  },
  {
   "cell_type": "code",
   "execution_count": 348,
   "metadata": {},
   "outputs": [
    {
     "data": {
      "text/plain": [
       "defaultdict(collections.OrderedDict,\n",
       "            {'training': OrderedDict([('auc', 0.8064591700133869)]),\n",
       "             'valid_1': OrderedDict([('auc', 0.7920792079207921)])})"
      ]
     },
     "execution_count": 348,
     "metadata": {},
     "output_type": "execute_result"
    }
   ],
   "source": [
    "model_sk.best_score_"
   ]
  },
  {
   "cell_type": "code",
   "execution_count": 349,
   "metadata": {},
   "outputs": [
    {
     "data": {
      "text/plain": [
       "0.7920792079207921"
      ]
     },
     "execution_count": 349,
     "metadata": {},
     "output_type": "execute_result"
    }
   ],
   "source": [
    "roc_auc_score(Y_valid,model_sk.predict_proba(X_valid)[0:,1])"
   ]
  },
  {
   "cell_type": "code",
   "execution_count": null,
   "metadata": {},
   "outputs": [],
   "source": []
  },
  {
   "cell_type": "code",
   "execution_count": 350,
   "metadata": {},
   "outputs": [
    {
     "data": {
      "text/plain": [
       "LGBMClassifier(early_stopping_rounds=90, learning_rate=0.05, max_depth=4,\n",
       "               metric='auc', min_child_samples=30, n_jobs=15,\n",
       "               num_boost_round=2000, objective='binary', reg_alpha=10,\n",
       "               reg_lambda=500, seed=27)"
      ]
     },
     "execution_count": 350,
     "metadata": {},
     "output_type": "execute_result"
    }
   ],
   "source": [
    "model_sk.fit(X_train,Y_train,eval_set=[(X_train,Y_train)],eval_metric = 'auc',verbose=None)"
   ]
  },
  {
   "cell_type": "code",
   "execution_count": 351,
   "metadata": {},
   "outputs": [
    {
     "data": {
      "text/plain": [
       "defaultdict(collections.OrderedDict,\n",
       "            {'training': OrderedDict([('auc', 0.8291914745227998)])})"
      ]
     },
     "execution_count": 351,
     "metadata": {},
     "output_type": "execute_result"
    }
   ],
   "source": [
    "model_sk.best_score_"
   ]
  },
  {
   "cell_type": "code",
   "execution_count": 352,
   "metadata": {},
   "outputs": [
    {
     "data": {
      "text/plain": [
       "0.7906598524461703"
      ]
     },
     "execution_count": 352,
     "metadata": {},
     "output_type": "execute_result"
    }
   ],
   "source": [
    "roc_auc_score(Y_valid,model_sk.predict_proba(X_valid)[0:,1])"
   ]
  },
  {
   "cell_type": "code",
   "execution_count": 353,
   "metadata": {},
   "outputs": [
    {
     "data": {
      "text/plain": [
       "(994, 16)"
      ]
     },
     "execution_count": 353,
     "metadata": {},
     "output_type": "execute_result"
    }
   ],
   "source": [
    "X_valid.shape"
   ]
  },
  {
   "cell_type": "code",
   "execution_count": 62,
   "metadata": {},
   "outputs": [],
   "source": [
    "def show_proba_calibration_plots(y_predicted_probs, y_true_labels):\n",
    "    preds_with_true_labels = np.array(list(zip(y_predicted_probs, y_true_labels)))\n",
    "\n",
    "    thresholds = []\n",
    "    precisions = []\n",
    "    recalls = []\n",
    "    f1_scores = []\n",
    "\n",
    "    for threshold in np.linspace(0.1, 0.9, 9):\n",
    "        thresholds.append(threshold)\n",
    "        precisions.append(precision_score(y_true_labels, list(map(int, y_predicted_probs > threshold))))\n",
    "        recalls.append(recall_score(y_true_labels, list(map(int, y_predicted_probs > threshold))))\n",
    "        f1_scores.append(f1_score(y_true_labels, list(map(int, y_predicted_probs > threshold))))\n",
    "\n",
    "    scores_table = pd.DataFrame({'f1':f1_scores,\n",
    "                                 'precision':precisions,\n",
    "                                 'recall':recalls,\n",
    "                                 'probability':thresholds}).sort_values('f1', ascending=False).round(3)\n",
    "  \n",
    "    figure = plt.figure(figsize = (15, 5))\n",
    "\n",
    "    plt1 = figure.add_subplot(121)\n",
    "    plt1.plot(thresholds, precisions, label='Precision', linewidth=4)\n",
    "    plt1.plot(thresholds, recalls, label='Recall', linewidth=4)\n",
    "    plt1.plot(thresholds, f1_scores, label='F1', linewidth=4)\n",
    "    plt1.set_ylabel('Scores')\n",
    "    plt1.set_xlabel('Probability threshold')\n",
    "    plt1.set_title('Probabilities threshold calibration')\n",
    "    plt1.legend(bbox_to_anchor=(0.25, 0.25))   \n",
    "    plt1.table(cellText = scores_table.values,\n",
    "               colLabels = scores_table.columns, \n",
    "               colLoc = 'center', cellLoc = 'center', loc = 'bottom', bbox = [0, -1.3, 1, 1])\n",
    "\n",
    "    plt2 = figure.add_subplot(122)\n",
    "    plt2.hist(preds_with_true_labels[preds_with_true_labels[:, 1] == 0][:, 0], \n",
    "              label='Another class', color='royalblue', alpha=1)\n",
    "    plt2.hist(preds_with_true_labels[preds_with_true_labels[:, 1] == 1][:, 0], \n",
    "              label='Main class', color='darkcyan', alpha=0.8)\n",
    "    plt2.set_ylabel('Number of examples')\n",
    "    plt2.set_xlabel('Probabilities')\n",
    "    plt2.set_title('Probability histogram')\n",
    "    plt2.legend(bbox_to_anchor=(1, 1))\n",
    "\n",
    "    plt.show()"
   ]
  },
  {
   "cell_type": "code",
   "execution_count": 63,
   "metadata": {},
   "outputs": [],
   "source": [
    "def show_learning_curve_plot(estimator, X, y, cv=3, n_jobs=-1, train_sizes=np.linspace(.1, 1.0, 5)):\n",
    "\n",
    "    train_sizes, train_scores, test_scores = learning_curve(estimator, X, y, \n",
    "                                                            cv=cv, \n",
    "                                                            scoring='f1',\n",
    "                                                            train_sizes=train_sizes, \n",
    "                                                            n_jobs=n_jobs)\n",
    "    train_scores_mean = np.mean(train_scores, axis=1)\n",
    "    train_scores_std = np.std(train_scores, axis=1)\n",
    "    test_scores_mean = np.mean(test_scores, axis=1)\n",
    "    test_scores_std = np.std(test_scores, axis=1)\n",
    "\n",
    "    plt.figure(figsize=(15,8))\n",
    "    plt.fill_between(train_sizes, train_scores_mean - train_scores_std,\n",
    "                     train_scores_mean + train_scores_std, alpha=0.1, color=\"r\")\n",
    "    plt.fill_between(train_sizes, test_scores_mean - test_scores_std,\n",
    "                     test_scores_mean + test_scores_std, alpha=0.1, color=\"g\")\n",
    "    plt.plot(train_sizes, train_scores_mean, 'o-', color=\"r\",\n",
    "             label=\"Training score\")\n",
    "    plt.plot(train_sizes, test_scores_mean, 'o-', color=\"g\",\n",
    "             label=\"Cross-validation score\")\n",
    "\n",
    "    plt.title(f\"Learning curves ({type(estimator).__name__})\")\n",
    "    plt.xlabel(\"Training examples\")\n",
    "    plt.ylabel(\"Score\")     \n",
    "    plt.legend(loc=\"best\")\n",
    "    plt.grid()\n",
    "    plt.show()"
   ]
  },
  {
   "cell_type": "code",
   "execution_count": 64,
   "metadata": {},
   "outputs": [],
   "source": [
    "def get_classification_report(y_train_true, y_train_pred, y_test_true, y_test_pred):\n",
    "    print('TRAIN\\n\\n' + classification_report(y_train_true, y_train_pred))\n",
    "    print('TEST\\n\\n' + classification_report(y_test_true, y_test_pred))\n",
    "    print('CONFUSION MATRIX\\n')\n",
    "    print(pd.crosstab(y_test_true, y_test_pred))"
   ]
  },
  {
   "cell_type": "code",
   "execution_count": 65,
   "metadata": {},
   "outputs": [],
   "source": [
    "def get_best_split(pred,y_test):\n",
    "    d = {}\n",
    "    for i in np.arange(0.05,0.96,0.01):\n",
    "        z = np.where(pred < i, 0, 1)\n",
    "        d[i] = f1_score(y_test,z)\n",
    "    return sorted(d, key=d.get, reverse=True)[0]\n",
    "    "
   ]
  },
  {
   "cell_type": "code",
   "execution_count": 73,
   "metadata": {},
   "outputs": [],
   "source": [
    "model_sk_1= lgb.LGBMClassifier(**params_lgb_sk)"
   ]
  },
  {
   "cell_type": "code",
   "execution_count": 74,
   "metadata": {},
   "outputs": [
    {
     "data": {
      "text/plain": [
       "LGBMClassifier(learning_rate=0.05, max_depth=4, metric='auc',\n",
       "               min_child_samples=10, num_boost_round=2000, num_leaves=10,\n",
       "               objective='binary', reg_alpha=2, reg_lambda=460, seed=27)"
      ]
     },
     "execution_count": 74,
     "metadata": {},
     "output_type": "execute_result"
    }
   ],
   "source": [
    "model_sk_1.fit(drop_target(train_work['3-3']),target)"
   ]
  },
  {
   "cell_type": "code",
   "execution_count": 75,
   "metadata": {},
   "outputs": [],
   "source": [
    "y_train_pred= model_sk_1.predict_proba(drop_target(train_work['3-3']))[:,1]"
   ]
  },
  {
   "cell_type": "code",
   "execution_count": 76,
   "metadata": {},
   "outputs": [
    {
     "data": {
      "image/png": "[encoded data removed]",
      "text/plain": [
       "<Figure size 1080x360 with 2 Axes>"
      ]
     },
     "metadata": {
      "needs_background": "light"
     },
     "output_type": "display_data"
    }
   ],
   "source": [
    "show_proba_calibration_plots(res[4], target)"
   ]
  },
  {
   "cell_type": "code",
   "execution_count": 77,
   "metadata": {},
   "outputs": [
    {
     "data": {
      "image/png": "[encoded data removed]",
      "text/plain": [
       "<Figure size 1080x576 with 1 Axes>"
      ]
     },
     "metadata": {
      "needs_background": "light"
     },
     "output_type": "display_data"
    }
   ],
   "source": [
    "show_learning_curve_plot(model_sk_1, drop_target(train_work['3-3']), target, cv=5, n_jobs=-1)"
   ]
  },
  {
   "cell_type": "code",
   "execution_count": 78,
   "metadata": {},
   "outputs": [
    {
     "data": {
      "text/plain": [
       "0.27"
      ]
     },
     "execution_count": 78,
     "metadata": {},
     "output_type": "execute_result"
    }
   ],
   "source": [
    "bs = get_best_split(res[4], target)\n",
    "bs"
   ]
  },
  {
   "cell_type": "code",
   "execution_count": 95,
   "metadata": {},
   "outputs": [],
   "source": [
    "y_train_pred=np.where(y_train_pred<0.35,0,1)\n",
    "y_test_pred = np.where(res[4]<0.35,0,1)"
   ]
  },
  {
   "cell_type": "code",
   "execution_count": 96,
   "metadata": {},
   "outputs": [
    {
     "name": "stdout",
     "output_type": "stream",
     "text": [
      "TRAIN\n",
      "\n",
      "              precision    recall  f1-score   support\n",
      "\n",
      "           0       0.89      0.72      0.80      5387\n",
      "           1       0.52      0.78      0.63      2113\n",
      "\n",
      "    accuracy                           0.74      7500\n",
      "   macro avg       0.71      0.75      0.71      7500\n",
      "weighted avg       0.79      0.74      0.75      7500\n",
      "\n",
      "TEST\n",
      "\n",
      "              precision    recall  f1-score   support\n",
      "\n",
      "           0       0.82      0.83      0.82      5387\n",
      "           1       0.55      0.52      0.53      2113\n",
      "\n",
      "    accuracy                           0.74      7500\n",
      "   macro avg       0.68      0.68      0.68      7500\n",
      "weighted avg       0.74      0.74      0.74      7500\n",
      "\n",
      "CONFUSION MATRIX\n",
      "\n",
      "col_0              0     1\n",
      "Credit Default            \n",
      "0               4486   901\n",
      "1               1013  1100\n"
     ]
    }
   ],
   "source": [
    "get_classification_report(target, y_train_pred, target, y_test_pred)"
   ]
  },
  {
   "cell_type": "code",
   "execution_count": null,
   "metadata": {},
   "outputs": [],
   "source": []
  },
  {
   "cell_type": "code",
   "execution_count": 676,
   "metadata": {},
   "outputs": [],
   "source": [
    "x_train = drop_target(train_work['3-3']).copy()"
   ]
  },
  {
   "cell_type": "code",
   "execution_count": 681,
   "metadata": {},
   "outputs": [],
   "source": [
    "x_train['Current Loan Amount'] = rankdata(x_train['Current Loan Amount'])"
   ]
  },
  {
   "cell_type": "code",
   "execution_count": null,
   "metadata": {},
   "outputs": [],
   "source": []
  },
  {
   "cell_type": "code",
   "execution_count": 682,
   "metadata": {},
   "outputs": [
    {
     "data": {
      "text/html": [
       "<div>\n",
       "<style scoped>\n",
       "    .dataframe tbody tr th:only-of-type {\n",
       "        vertical-align: middle;\n",
       "    }\n",
       "\n",
       "    .dataframe tbody tr th {\n",
       "        vertical-align: top;\n",
       "    }\n",
       "\n",
       "    .dataframe thead th {\n",
       "        text-align: right;\n",
       "    }\n",
       "</style>\n",
       "<table border=\"1\" class=\"dataframe\">\n",
       "  <thead>\n",
       "    <tr style=\"text-align: right;\">\n",
       "      <th></th>\n",
       "      <th>Home Ownership</th>\n",
       "      <th>Annual Income</th>\n",
       "      <th>Years in current job</th>\n",
       "      <th>Tax Liens</th>\n",
       "      <th>Number of Open Accounts</th>\n",
       "      <th>Years of Credit History</th>\n",
       "      <th>Maximum Open Credit</th>\n",
       "      <th>Number of Credit Problems</th>\n",
       "      <th>Months since last delinquent</th>\n",
       "      <th>Bankruptcies</th>\n",
       "      <th>Purpose</th>\n",
       "      <th>Term</th>\n",
       "      <th>Current Loan Amount</th>\n",
       "      <th>Current Credit Balance</th>\n",
       "      <th>Monthly Debt</th>\n",
       "      <th>Credit Score</th>\n",
       "    </tr>\n",
       "  </thead>\n",
       "  <tbody>\n",
       "    <tr>\n",
       "      <th>0</th>\n",
       "      <td>2.560000</td>\n",
       "      <td>482087.0</td>\n",
       "      <td>999.0</td>\n",
       "      <td>0.0</td>\n",
       "      <td>11.0</td>\n",
       "      <td>26.3</td>\n",
       "      <td>685960.0</td>\n",
       "      <td>1.0</td>\n",
       "      <td>999.0</td>\n",
       "      <td>1.0</td>\n",
       "      <td>22.053333</td>\n",
       "      <td>17.293333</td>\n",
       "      <td>7065.5</td>\n",
       "      <td>47386.0</td>\n",
       "      <td>7914.0</td>\n",
       "      <td>5353.0</td>\n",
       "    </tr>\n",
       "    <tr>\n",
       "      <th>1</th>\n",
       "      <td>2.560000</td>\n",
       "      <td>1025487.0</td>\n",
       "      <td>10.0</td>\n",
       "      <td>0.0</td>\n",
       "      <td>15.0</td>\n",
       "      <td>15.3</td>\n",
       "      <td>1181730.0</td>\n",
       "      <td>0.0</td>\n",
       "      <td>999.0</td>\n",
       "      <td>0.0</td>\n",
       "      <td>22.053333</td>\n",
       "      <td>10.880000</td>\n",
       "      <td>3277.0</td>\n",
       "      <td>394972.0</td>\n",
       "      <td>18373.0</td>\n",
       "      <td>3592.5</td>\n",
       "    </tr>\n",
       "    <tr>\n",
       "      <th>2</th>\n",
       "      <td>12.213333</td>\n",
       "      <td>751412.0</td>\n",
       "      <td>8.0</td>\n",
       "      <td>0.0</td>\n",
       "      <td>11.0</td>\n",
       "      <td>35.0</td>\n",
       "      <td>1182434.0</td>\n",
       "      <td>0.0</td>\n",
       "      <td>999.0</td>\n",
       "      <td>0.0</td>\n",
       "      <td>22.053333</td>\n",
       "      <td>17.293333</td>\n",
       "      <td>7065.5</td>\n",
       "      <td>308389.0</td>\n",
       "      <td>13651.0</td>\n",
       "      <td>4336.0</td>\n",
       "    </tr>\n",
       "    <tr>\n",
       "      <th>3</th>\n",
       "      <td>2.560000</td>\n",
       "      <td>805068.0</td>\n",
       "      <td>6.0</td>\n",
       "      <td>0.0</td>\n",
       "      <td>8.0</td>\n",
       "      <td>22.5</td>\n",
       "      <td>147400.0</td>\n",
       "      <td>1.0</td>\n",
       "      <td>999.0</td>\n",
       "      <td>1.0</td>\n",
       "      <td>22.053333</td>\n",
       "      <td>17.293333</td>\n",
       "      <td>914.5</td>\n",
       "      <td>95855.0</td>\n",
       "      <td>11338.0</td>\n",
       "      <td>841.0</td>\n",
       "    </tr>\n",
       "    <tr>\n",
       "      <th>4</th>\n",
       "      <td>13.373333</td>\n",
       "      <td>776264.0</td>\n",
       "      <td>8.0</td>\n",
       "      <td>0.0</td>\n",
       "      <td>13.0</td>\n",
       "      <td>13.6</td>\n",
       "      <td>385836.0</td>\n",
       "      <td>1.0</td>\n",
       "      <td>999.0</td>\n",
       "      <td>0.0</td>\n",
       "      <td>22.053333</td>\n",
       "      <td>17.293333</td>\n",
       "      <td>964.0</td>\n",
       "      <td>93309.0</td>\n",
       "      <td>7180.0</td>\n",
       "      <td>1935.5</td>\n",
       "    </tr>\n",
       "    <tr>\n",
       "      <th>...</th>\n",
       "      <td>...</td>\n",
       "      <td>...</td>\n",
       "      <td>...</td>\n",
       "      <td>...</td>\n",
       "      <td>...</td>\n",
       "      <td>...</td>\n",
       "      <td>...</td>\n",
       "      <td>...</td>\n",
       "      <td>...</td>\n",
       "      <td>...</td>\n",
       "      <td>...</td>\n",
       "      <td>...</td>\n",
       "      <td>...</td>\n",
       "      <td>...</td>\n",
       "      <td>...</td>\n",
       "      <td>...</td>\n",
       "    </tr>\n",
       "    <tr>\n",
       "      <th>7495</th>\n",
       "      <td>13.373333</td>\n",
       "      <td>402192.0</td>\n",
       "      <td>0.0</td>\n",
       "      <td>0.0</td>\n",
       "      <td>3.0</td>\n",
       "      <td>8.5</td>\n",
       "      <td>107866.0</td>\n",
       "      <td>0.0</td>\n",
       "      <td>999.0</td>\n",
       "      <td>0.0</td>\n",
       "      <td>2.626667</td>\n",
       "      <td>17.293333</td>\n",
       "      <td>996.5</td>\n",
       "      <td>73492.0</td>\n",
       "      <td>1900.0</td>\n",
       "      <td>917.5</td>\n",
       "    </tr>\n",
       "    <tr>\n",
       "      <th>7496</th>\n",
       "      <td>12.213333</td>\n",
       "      <td>1533984.0</td>\n",
       "      <td>1.0</td>\n",
       "      <td>0.0</td>\n",
       "      <td>10.0</td>\n",
       "      <td>26.5</td>\n",
       "      <td>686312.0</td>\n",
       "      <td>0.0</td>\n",
       "      <td>43.0</td>\n",
       "      <td>0.0</td>\n",
       "      <td>22.053333</td>\n",
       "      <td>10.880000</td>\n",
       "      <td>5214.0</td>\n",
       "      <td>456399.0</td>\n",
       "      <td>12783.0</td>\n",
       "      <td>7460.5</td>\n",
       "    </tr>\n",
       "    <tr>\n",
       "      <th>7497</th>\n",
       "      <td>13.373333</td>\n",
       "      <td>1878910.0</td>\n",
       "      <td>6.0</td>\n",
       "      <td>0.0</td>\n",
       "      <td>12.0</td>\n",
       "      <td>32.1</td>\n",
       "      <td>1778920.0</td>\n",
       "      <td>0.0</td>\n",
       "      <td>999.0</td>\n",
       "      <td>0.0</td>\n",
       "      <td>0.320000</td>\n",
       "      <td>17.293333</td>\n",
       "      <td>7065.5</td>\n",
       "      <td>477812.0</td>\n",
       "      <td>12479.0</td>\n",
       "      <td>5238.0</td>\n",
       "    </tr>\n",
       "    <tr>\n",
       "      <th>7498</th>\n",
       "      <td>12.213333</td>\n",
       "      <td>999.0</td>\n",
       "      <td>999.0</td>\n",
       "      <td>0.0</td>\n",
       "      <td>21.0</td>\n",
       "      <td>26.5</td>\n",
       "      <td>1141250.0</td>\n",
       "      <td>0.0</td>\n",
       "      <td>999.0</td>\n",
       "      <td>0.0</td>\n",
       "      <td>22.053333</td>\n",
       "      <td>17.293333</td>\n",
       "      <td>6094.0</td>\n",
       "      <td>476064.0</td>\n",
       "      <td>37118.0</td>\n",
       "      <td>6322.0</td>\n",
       "    </tr>\n",
       "    <tr>\n",
       "      <th>7499</th>\n",
       "      <td>13.373333</td>\n",
       "      <td>999.0</td>\n",
       "      <td>4.0</td>\n",
       "      <td>0.0</td>\n",
       "      <td>8.0</td>\n",
       "      <td>9.4</td>\n",
       "      <td>480832.0</td>\n",
       "      <td>0.0</td>\n",
       "      <td>999.0</td>\n",
       "      <td>0.0</td>\n",
       "      <td>22.053333</td>\n",
       "      <td>17.293333</td>\n",
       "      <td>36.0</td>\n",
       "      <td>288192.0</td>\n",
       "      <td>9061.0</td>\n",
       "      <td>6322.0</td>\n",
       "    </tr>\n",
       "  </tbody>\n",
       "</table>\n",
       "<p>7500 rows × 16 columns</p>\n",
       "</div>"
      ],
      "text/plain": [
       "     Home Ownership  Annual Income  Years in current job Tax Liens  \\\n",
       "0          2.560000       482087.0                 999.0       0.0   \n",
       "1          2.560000      1025487.0                  10.0       0.0   \n",
       "2         12.213333       751412.0                   8.0       0.0   \n",
       "3          2.560000       805068.0                   6.0       0.0   \n",
       "4         13.373333       776264.0                   8.0       0.0   \n",
       "...             ...            ...                   ...       ...   \n",
       "7495      13.373333       402192.0                   0.0       0.0   \n",
       "7496      12.213333      1533984.0                   1.0       0.0   \n",
       "7497      13.373333      1878910.0                   6.0       0.0   \n",
       "7498      12.213333          999.0                 999.0       0.0   \n",
       "7499      13.373333          999.0                   4.0       0.0   \n",
       "\n",
       "      Number of Open Accounts  Years of Credit History  Maximum Open Credit  \\\n",
       "0                        11.0                     26.3             685960.0   \n",
       "1                        15.0                     15.3            1181730.0   \n",
       "2                        11.0                     35.0            1182434.0   \n",
       "3                         8.0                     22.5             147400.0   \n",
       "4                        13.0                     13.6             385836.0   \n",
       "...                       ...                      ...                  ...   \n",
       "7495                      3.0                      8.5             107866.0   \n",
       "7496                     10.0                     26.5             686312.0   \n",
       "7497                     12.0                     32.1            1778920.0   \n",
       "7498                     21.0                     26.5            1141250.0   \n",
       "7499                      8.0                      9.4             480832.0   \n",
       "\n",
       "      Number of Credit Problems  Months since last delinquent  Bankruptcies  \\\n",
       "0                           1.0                         999.0           1.0   \n",
       "1                           0.0                         999.0           0.0   \n",
       "2                           0.0                         999.0           0.0   \n",
       "3                           1.0                         999.0           1.0   \n",
       "4                           1.0                         999.0           0.0   \n",
       "...                         ...                           ...           ...   \n",
       "7495                        0.0                         999.0           0.0   \n",
       "7496                        0.0                          43.0           0.0   \n",
       "7497                        0.0                         999.0           0.0   \n",
       "7498                        0.0                         999.0           0.0   \n",
       "7499                        0.0                         999.0           0.0   \n",
       "\n",
       "        Purpose       Term  Current Loan Amount  Current Credit Balance  \\\n",
       "0     22.053333  17.293333               7065.5                 47386.0   \n",
       "1     22.053333  10.880000               3277.0                394972.0   \n",
       "2     22.053333  17.293333               7065.5                308389.0   \n",
       "3     22.053333  17.293333                914.5                 95855.0   \n",
       "4     22.053333  17.293333                964.0                 93309.0   \n",
       "...         ...        ...                  ...                     ...   \n",
       "7495   2.626667  17.293333                996.5                 73492.0   \n",
       "7496  22.053333  10.880000               5214.0                456399.0   \n",
       "7497   0.320000  17.293333               7065.5                477812.0   \n",
       "7498  22.053333  17.293333               6094.0                476064.0   \n",
       "7499  22.053333  17.293333                 36.0                288192.0   \n",
       "\n",
       "      Monthly Debt  Credit Score  \n",
       "0           7914.0        5353.0  \n",
       "1          18373.0        3592.5  \n",
       "2          13651.0        4336.0  \n",
       "3          11338.0         841.0  \n",
       "4           7180.0        1935.5  \n",
       "...            ...           ...  \n",
       "7495        1900.0         917.5  \n",
       "7496       12783.0        7460.5  \n",
       "7497       12479.0        5238.0  \n",
       "7498       37118.0        6322.0  \n",
       "7499        9061.0        6322.0  \n",
       "\n",
       "[7500 rows x 16 columns]"
      ]
     },
     "execution_count": 682,
     "metadata": {},
     "output_type": "execute_result"
    }
   ],
   "source": [
    "x_train"
   ]
  },
  {
   "cell_type": "code",
   "execution_count": 683,
   "metadata": {},
   "outputs": [],
   "source": [
    "params_lgb_sk_s = {\n",
    "    \"boosting_type\": \"gbdt\",\n",
    "    \"objective\": \"binary\",\n",
    "    \"metric\": \"auc\",\n",
    "    \"learning_rate\": 0.05,\n",
    "    \"n_estimators\": 100,\n",
    "    \"n_jobs\": 15,\n",
    "    \"seed\": 27,\n",
    "    'num_boost_round':2000,\n",
    "#     \"early_stopping_rounds\":90,\n",
    "    'reg_alpha': 2,\n",
    "    'reg_lambda': 460,\n",
    "    'max_depth': 4,\n",
    "    'min_child_samples':10,\n",
    "    'num_leaves':10\n",
    "\n",
    "}\n",
    "model_sk=lgb.LGBMClassifier(**params_lgb_sk_s)"
   ]
  },
  {
   "cell_type": "code",
   "execution_count": 97,
   "metadata": {},
   "outputs": [],
   "source": [
    "def make_cross_validation_cb(X: pd.DataFrame,\n",
    "                          y: pd.Series,\n",
    "                          estimator: object,\n",
    "                          metric: callable,\n",
    "                          cv_strategy,print_is = True):\n",
    "    \"\"\"\n",
    "    Кросс-валидация.\n",
    "\n",
    "    Parameters\n",
    "    ----------\n",
    "    X: pd.DataFrame\n",
    "        Матрица признаков.\n",
    "\n",
    "    y: pd.Series\n",
    "        Вектор целевой переменной.\n",
    "\n",
    "    estimator: callable\n",
    "        Объект модели для обучения.\n",
    "\n",
    "    metric: callable\n",
    "        Метрика для оценки качества решения.\n",
    "        Ожидается, что на вход будет передана функция,\n",
    "        которая принимает 2 аргумента: y_true, y_pred.\n",
    "\n",
    "    cv_strategy: cross-validation generator\n",
    "        Объект для описания стратегии кросс-валидации.\n",
    "        Ожидается, что на вход будет передан объект типа\n",
    "        KFold или StratifiedKFold.\n",
    "\n",
    "    Returns\n",
    "    -------\n",
    "    oof_score: float\n",
    "        Значение метрики качества на OOF-прогнозах.\n",
    "\n",
    "    fold_train_scores: List[float]\n",
    "        Значение метрики качества на каждом обучающем датасете кросс-валидации.\n",
    "\n",
    "    fold_valid_scores: List[float]\n",
    "        Значение метрики качества на каждом валидационном датасете кросс-валидации.\n",
    "\n",
    "    oof_predictions: np.array\n",
    "        Прогнозы на OOF.\n",
    "\n",
    "    \"\"\"\n",
    "    \n",
    "    estimators, fold_train_scores, fold_valid_scores = [], [], []\n",
    "    oof_predictions = np.zeros(X.shape[0])\n",
    "\n",
    "    for fold_number, (train_idx, valid_idx) in enumerate(cv_strategy.split(X, y)):\n",
    "        x_train, x_valid = X.iloc[train_idx], X.iloc[valid_idx]\n",
    "        y_train, y_valid = y.iloc[train_idx], y.iloc[valid_idx]\n",
    "\n",
    "        estimator.fit(x_train, y_train) \n",
    "\n",
    "        y_valid_pred = estimator.predict_proba(x_valid)[:,1]\n",
    "        y_train_pred = estimator.predict_proba(x_train)[:,1]\n",
    "        \n",
    "        \n",
    "        fold_train_scores.append(metric(y_train, y_train_pred))\n",
    "        fold_valid_scores.append(metric(y_valid, y_valid_pred))\n",
    "        oof_predictions[valid_idx] = y_valid_pred\n",
    "\n",
    "        msg = (\n",
    "            f\"Fold: {fold_number+1}, train-observations = {len(train_idx)}, \"\n",
    "            f\"valid-observations = {len(valid_idx)}\\n\"\n",
    "            f\"train-score = {round(fold_train_scores[fold_number], 4)}, \"\n",
    "            f\"valid-score = {round(fold_valid_scores[fold_number], 4)}\" \n",
    "        )\n",
    "        if print_is:\n",
    "            print(msg)\n",
    "            print(\"=\"*69)\n",
    "        estimators.append(estimator)\n",
    "    oof_score = metric(y, oof_predictions)\n",
    "    if print_is:\n",
    "        print(f\"CV-results train: {round(np.mean(fold_train_scores), 4)} +/- {round(np.std(fold_train_scores), 3)}\")\n",
    "        print(f\"CV-results valid: {round(np.mean(fold_valid_scores), 4)} +/- {round(np.std(fold_valid_scores), 3)}\")\n",
    "        print(f\"OOF-score = {round(oof_score, 4)}\")\n",
    "\n",
    "    return estimators, oof_score, fold_train_scores, fold_valid_scores, oof_predictions   "
   ]
  },
  {
   "cell_type": "code",
   "execution_count": 702,
   "metadata": {},
   "outputs": [],
   "source": [
    "x_train[categorical_features]=x_train[categorical_features].astype('str')"
   ]
  },
  {
   "cell_type": "code",
   "execution_count": 724,
   "metadata": {},
   "outputs": [
    {
     "name": "stdout",
     "output_type": "stream",
     "text": [
      "Fold: 1, train-observations = 6000, valid-observations = 1500\n",
      "train-score = 0.8575, valid-score = 0.7806\n",
      "=====================================================================\n",
      "Fold: 2, train-observations = 6000, valid-observations = 1500\n",
      "train-score = 0.8582, valid-score = 0.7775\n",
      "=====================================================================\n",
      "Fold: 3, train-observations = 6000, valid-observations = 1500\n",
      "train-score = 0.8509, valid-score = 0.7849\n",
      "=====================================================================\n",
      "Fold: 4, train-observations = 6000, valid-observations = 1500\n",
      "train-score = 0.8589, valid-score = 0.7818\n",
      "=====================================================================\n",
      "Fold: 5, train-observations = 6000, valid-observations = 1500\n",
      "train-score = 0.8591, valid-score = 0.7606\n",
      "=====================================================================\n",
      "CV-results train: 0.8569 +/- 0.003\n",
      "CV-results valid: 0.7771 +/- 0.009\n",
      "OOF-score = 0.7766\n",
      "Wall time: 5.01 s\n"
     ]
    }
   ],
   "source": []
  },
  {
   "cell_type": "code",
   "execution_count": 126,
   "metadata": {},
   "outputs": [],
   "source": [
    "params_lgb_sk = {\n",
    "    \"boosting_type\": \"gbdt\",\n",
    "    \"objective\": \"binary\",\n",
    "    \"metric\": \"auc\",\n",
    "    \"learning_rate\": 0.05,\n",
    "    \"n_estimators\": 100,\n",
    "    \"n_jobs\": 15,\n",
    "    \"seed\": 27,\n",
    "    'num_boost_round':2000,\n",
    "#     \"early_stopping_rounds\":90,\n",
    "    'reg_alpha': 2,\n",
    "    'reg_lambda': 460,\n",
    "    'max_depth': 4,\n",
    "    'min_child_samples':10,\n",
    "    'num_leaves':10\n",
    "\n",
    "}\n",
    "model_lgb=lgb.LGBMClassifier(**params_lgb_sk)"
   ]
  },
  {
   "cell_type": "code",
   "execution_count": 128,
   "metadata": {},
   "outputs": [],
   "source": [
    "param_cb = {\n",
    "    \"n_estimators\": 800,\n",
    "    \"loss_function\": \"Logloss\",\n",
    "    \"eval_metric\": \"AUC\",\n",
    "    \"task_type\": \"CPU\",\n",
    "    \"thread_count\": -1,\n",
    "    \"early_stopping_rounds\": 90,\n",
    "    'custom_metric':  ['AUC'],\n",
    "#     'cat_features' : categorical_features,\n",
    "    \"verbose\": False,\n",
    "    \"random_seed\": 42,\n",
    "    \"max_bin\": 30,\n",
    "    'learning_rate':0.05,\n",
    "    \"max_depth\": 2,\n",
    "    \"l2_leaf_reg\": 28, \n",
    "#     'random_strength':150,\n",
    "#     'bagging_temperature':500,\n",
    "    \n",
    "    \n",
    "    \n",
    "    }\n",
    "model_cb = cb.CatBoostClassifier(**param_cb)   "
   ]
  },
  {
   "cell_type": "code",
   "execution_count": 106,
   "metadata": {},
   "outputs": [],
   "source": [
    "params_xgb = {'booster': 'gbtree', \n",
    "           'n_estimators': 135,\n",
    "           \"objective\": \"binary:logistic\",   \n",
    "           'nthread': -1,\n",
    "           'seed': 28, \n",
    "           'learning_rate': 0.05,\n",
    "            \"eval_metric\": \"auc\",\n",
    "           'max_depth': 4, \n",
    "           'reg_lambda': 3, \n",
    "           'min_child_weight': 3,\n",
    "           'gamma':0 }\n",
    "\n",
    "model_xgb=xgb.XGBClassifier(**params_xgb)"
   ]
  },
  {
   "cell_type": "code",
   "execution_count": 112,
   "metadata": {},
   "outputs": [],
   "source": [
    "X_train = drop_target(train_work['3-3'])"
   ]
  },
  {
   "cell_type": "code",
   "execution_count": 113,
   "metadata": {},
   "outputs": [
    {
     "name": "stdout",
     "output_type": "stream",
     "text": [
      "[0.76821139 0.77524341 0.78683806 0.76921169 0.76284382]\n",
      "[0.76713289 0.75894401 0.75401822 0.78737833 0.78284187]\n",
      "[0.7506109  0.77713354 0.76223083 0.80250079 0.78689085]\n",
      "[0.77426878 0.76823063 0.74522825 0.79641629 0.78356884]\n",
      "[0.77624696 0.74285899 0.78692236 0.77291446 0.78254693]\n",
      "[0.7828888  0.77595174 0.77951142 0.75425909 0.77786008]\n",
      "[0.78344772 0.7720265  0.76205571 0.7804451  0.77299305]\n",
      "[0.77460295 0.77953815 0.76522169 0.78026545 0.76411919]\n",
      "[0.7757166  0.77965508 0.76230358 0.77457775 0.77720805]\n",
      "[0.77508004 0.76733303 0.79582793 0.75782947 0.76986923]\n",
      "[0.78077243 0.77073932 0.75731687 0.79015595 0.7661042 ]\n",
      "[0.75648098 0.77883979 0.78323674 0.78678566 0.75346338]\n",
      "[0.77007734 0.75342362 0.77363269 0.7833817  0.77409445]\n",
      "[0.78577395 0.7645219  0.78295035 0.77425034 0.75708798]\n",
      "[0.76527128 0.75884302 0.77027092 0.76801088 0.78417687]\n",
      "[0.78574723 0.76819157 0.74756591 0.77320066 0.79257098]\n",
      "[0.77455978 0.76072499 0.75253407 0.78247332 0.78164529]\n",
      "[0.78859931 0.76922523 0.75709725 0.77832121 0.7691984 ]\n",
      "[0.76809354 0.78593696 0.75128272 0.78512556 0.77506787]\n",
      "[0.7840553  0.74650777 0.78542874 0.77688557 0.76660714]\n",
      "[0.76206086 0.77228943 0.80462897 0.77145109 0.75666051]\n",
      "[0.75837502 0.79408521 0.77799533 0.76930556 0.7701721 ]\n",
      "[0.75439745 0.78660463 0.78993842 0.78382652 0.75124906]\n",
      "[0.76806472 0.76885315 0.78010206 0.76833468 0.76898557]\n",
      "[0.78303919 0.76490378 0.79510966 0.76293554 0.76995629]\n",
      "[0.7813461  0.77977831 0.76561413 0.761618   0.7736342 ]\n",
      "[0.76333767 0.76798848 0.76800265 0.79262036 0.77268774]\n",
      "[0.77019342 0.79124624 0.75896564 0.770263   0.77903011]\n",
      "[0.78486486 0.76762088 0.78357249 0.76514017 0.75687462]\n",
      "[0.78567912 0.78610726 0.76756218 0.77155952 0.7561652 ]\n",
      "[0.78123989 0.77071649 0.7583223  0.78932357 0.77456555]\n",
      "[0.77565784 0.77136464 0.77769846 0.76846194 0.77442333]\n",
      "[0.76777946 0.78006423 0.77642323 0.77694839 0.75967895]\n",
      "[0.74277864 0.79544725 0.78019277 0.77317306 0.76764172]\n",
      "[0.78169745 0.76915707 0.7813572  0.76189218 0.77386432]\n",
      "[0.79426915 0.76674062 0.76839641 0.78665553 0.75585965]\n",
      "[0.76793191 0.76265403 0.76952127 0.79417954 0.76486622]\n",
      "[0.78464364 0.78523744 0.76870591 0.76978026 0.76600891]\n",
      "[0.77622459 0.80386599 0.76879617 0.74826885 0.77007203]\n",
      "[0.77326961 0.77314507 0.78021634 0.77640146 0.76977064]\n",
      "[0.78386487 0.77261937 0.7729453  0.76752006 0.77444203]\n",
      "[0.76657091 0.78926738 0.77518361 0.78661512 0.75635913]\n",
      "[0.77129838 0.76366033 0.76472356 0.78501213 0.78075695]\n",
      "[0.77098653 0.76294575 0.75986561 0.77282967 0.78664049]\n",
      "[0.76092065 0.77094939 0.76975169 0.77220968 0.78793896]\n",
      "[0.77685661 0.77345488 0.78429907 0.76427466 0.77362557]\n",
      "[0.75992504 0.77786306 0.76478818 0.78308051 0.78558784]\n",
      "[0.78144423 0.76680141 0.77831476 0.75884113 0.77332369]\n",
      "[0.78593629 0.77368793 0.785722   0.76813751 0.75638393]\n",
      "[0.77695882 0.79623149 0.7690725  0.75690669 0.77851998]\n",
      "Wall time: 34 s\n"
     ]
    }
   ],
   "source": [
    "%%time\n",
    "base_score = np.array([])\n",
    "\n",
    "\n",
    "for i in range(50):\n",
    "    fold = KFold(n_splits=5, shuffle=True, random_state=i)\n",
    "    scores = cross_val_score(\n",
    "        estimator=model_xgb,\n",
    "        X=X_train,\n",
    "        y=target,\n",
    "        scoring='roc_auc',\n",
    "        cv=fold)\n",
    "                \n",
    "    print(scores)\n",
    "    base_score = np.append(base_score, scores)"
   ]
  },
  {
   "cell_type": "code",
   "execution_count": 129,
   "metadata": {},
   "outputs": [
    {
     "data": {
      "text/plain": [
       "array([0.78228434, 0.78887847, 0.7687223 , 0.76431753, 0.77609683])"
      ]
     },
     "execution_count": 129,
     "metadata": {},
     "output_type": "execute_result"
    }
   ],
   "source": [
    "cross_val_score(\n",
    "            estimator=model_cb,\n",
    "            X=X_train,\n",
    "            y=target,\n",
    "            scoring='roc_auc',\n",
    "            cv=fold,\n",
    "            n_jobs=-1\n",
    "        )"
   ]
  },
  {
   "cell_type": "code",
   "execution_count": 130,
   "metadata": {},
   "outputs": [
    {
     "name": "stderr",
     "output_type": "stream",
     "text": [
      "100%|███████████████████████████████████████████████████████████████████████████████████| 2/2 [04:18<00:00, 129.42s/it]"
     ]
    },
    {
     "name": "stdout",
     "output_type": "stream",
     "text": [
      "Wall time: 4min 18s\n"
     ]
    },
    {
     "name": "stderr",
     "output_type": "stream",
     "text": [
      "\n"
     ]
    },
    {
     "data": {
      "text/plain": [
       "Text(0, 0.5, 't-statistic')"
      ]
     },
     "execution_count": 130,
     "metadata": {},
     "output_type": "execute_result"
    },
    {
     "data": {
      "image/png": "[encoded data removed]",
      "text/plain": [
       "<Figure size 432x288 with 1 Axes>"
      ]
     },
     "metadata": {
      "needs_background": "light"
     },
     "output_type": "display_data"
    }
   ],
   "source": [
    "%%time\n",
    "t_stats, n_trees = [], []\n",
    "for model in tqdm([(model_lgb,'lgb'),(model_cb,'cb')]):  \n",
    "    current_score = np.array([])\n",
    "    for i in range(50):\n",
    "        fold = KFold(n_splits=5, shuffle=True, random_state=i)\n",
    "        scores = cross_val_score(\n",
    "            estimator=model[0],\n",
    "            X=X_train,\n",
    "            y=target,\n",
    "            scoring='roc_auc',\n",
    "            cv=fold,\n",
    "            n_jobs=-1\n",
    "        )\n",
    "        current_score = np.append(current_score, scores)\n",
    "\n",
    "    t_stat, p_value = ttest_rel(current_score, base_score)\n",
    "    t_stats.append(t_stat)\n",
    "    n_trees.append(model[1])\n",
    "\n",
    "plt.plot(n_trees, t_stats)\n",
    "plt.xlabel('n_estimators')\n",
    "plt.ylabel('t-statistic')"
   ]
  },
  {
   "cell_type": "code",
   "execution_count": 131,
   "metadata": {},
   "outputs": [
    {
     "data": {
      "text/plain": [
       "[2.015330402328223, 10.189795532745935]"
      ]
     },
     "execution_count": 131,
     "metadata": {},
     "output_type": "execute_result"
    }
   ],
   "source": [
    "t_stats"
   ]
  },
  {
   "cell_type": "code",
   "execution_count": 132,
   "metadata": {},
   "outputs": [
    {
     "data": {
      "text/plain": [
       "['lgb', 'cb']"
      ]
     },
     "execution_count": 132,
     "metadata": {},
     "output_type": "execute_result"
    }
   ],
   "source": [
    "n_trees"
   ]
  },
  {
   "cell_type": "code",
   "execution_count": null,
   "metadata": {},
   "outputs": [],
   "source": []
  }
 ],
 "metadata": {
  "kernelspec": {
   "display_name": "Python 3",
   "language": "python",
   "name": "python3"
  },
  "language_info": {
   "codemirror_mode": {
    "name": "ipython",
    "version": 3
   },
   "file_extension": ".py",
   "mimetype": "text/x-python",
   "name": "python",
   "nbconvert_exporter": "python",
   "pygments_lexer": "ipython3",
   "version": "3.8.3"
  }
 },
 "nbformat": 4,
 "nbformat_minor": 4
}
