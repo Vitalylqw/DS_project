{
 "cells": [
  {
   "cell_type": "code",
   "execution_count": 1,
   "metadata": {},
   "outputs": [],
   "source": [
    "import warnings\n",
    "warnings.filterwarnings('ignore')"
   ]
  },
  {
   "cell_type": "code",
   "execution_count": 2,
   "metadata": {},
   "outputs": [],
   "source": [
    "from sklearn.pipeline import Pipeline\n",
    "from scipy.stats import rankdata\n",
    "\n",
    "\n",
    "from typing import List, Optional\n",
    "from scipy import stats\n",
    "from scipy.stats import shapiro\n",
    "from scipy.stats import probplot\n",
    "from scipy.stats import ttest_ind, mannwhitneyu\n",
    "from scipy.stats import chi2_contingency\n",
    "from statsmodels.stats.weightstats import zconfint\n",
    "import statsmodels.api as sm\n",
    "from tqdm import tqdm\n",
    "import lightgbm as lgb\n",
    "import catboost as cb\n",
    "import numpy as np\n",
    "import pandas as pd\n",
    "import matplotlib as mpl\n",
    "import matplotlib.pyplot as plt\n",
    "from sklearn.model_selection import train_test_split, ShuffleSplit, cross_val_score, learning_curve\n",
    "import seaborn as sns\n",
    "import scipy.stats as st\n",
    "from scipy.stats import probplot, ks_2samp\n",
    "import sklearn as sk\n",
    "from sklearn.metrics import roc_auc_score, f1_score,r2_score,classification_report,accuracy_score,precision_score, recall_score\n",
    "from sklearn.ensemble import RandomForestRegressor\n",
    "from sklearn.model_selection import KFold, cross_val_score\n",
    "from sklearn.base import BaseEstimator, TransformerMixin\n",
    "from sklearn.utils.validation import check_is_fitted\n",
    "# import missingno as msno\n",
    "# import xgboost as xgb\n",
    "import pickle\n",
    "from sklearn.linear_model import LogisticRegression\n",
    "from sklearn.neighbors import KNeighborsClassifier\n",
    "from sklearn.preprocessing import StandardScaler, MinMaxScaler\n",
    "from sklearn.model_selection import KFold, GridSearchCV, RandomizedSearchCV\n",
    "from scipy.stats import ttest_rel\n",
    "%matplotlib inline"
   ]
  },
  {
   "cell_type": "code",
   "execution_count": 3,
   "metadata": {},
   "outputs": [],
   "source": [
    "TRAIN = 'course_project_train.csv'\n",
    "TEST = 'course_project_test.csv'\n",
    "Train_working=\"Train_working.csv\"\n",
    "Test_working ='Test_working.csv'\n",
    "predict = 'VErshov_predictions.csv'\n",
    "Train_work = 'Train_work.pkl'\n",
    "Test_work = 'Test_work.pkl'\n"
   ]
  },
  {
   "cell_type": "code",
   "execution_count": 4,
   "metadata": {},
   "outputs": [],
   "source": [
    "train = pd.read_csv(Train_working)\n",
    "test= pd.read_csv(Test_working)\n",
    "target = train['Credit Default']\n",
    "with open(Train_work, 'rb') as f:\n",
    "    train_work = pickle.load(f)\n",
    "with open(Test_work, 'rb') as f:\n",
    "    test_work = pickle.load(f)\n",
    "\n",
    "train_ = pd.read_csv(TRAIN)    "
   ]
  },
  {
   "cell_type": "code",
   "execution_count": 5,
   "metadata": {},
   "outputs": [
    {
     "data": {
      "text/plain": [
       "17"
      ]
     },
     "execution_count": 5,
     "metadata": {},
     "output_type": "execute_result"
    }
   ],
   "source": [
    "# разделим признаки по типу\n",
    "target_col = ['Credit Default']\n",
    "categorical_features=['Home Ownership','Tax Liens','Purpose','Term']\n",
    "discrete_feature = ['Years in current job','Number of Open Accounts',\\\n",
    "                    'Years of Credit History','Number of Credit Problems',\\\n",
    "                   'Months since last delinquent','Bankruptcies','Credit Score']\n",
    "continuous_feature = ['Annual Income','Maximum Open Credit','Current Loan Amount',\\\n",
    "                      'Current Credit Balance','Monthly Debt']\n",
    "len(target_col + categorical_features +  discrete_feature + continuous_feature)"
   ]
  },
  {
   "cell_type": "code",
   "execution_count": null,
   "metadata": {},
   "outputs": [],
   "source": []
  },
  {
   "cell_type": "code",
   "execution_count": 6,
   "metadata": {},
   "outputs": [],
   "source": [
    "def calculate_confidence_interval(scores: list, conf_interval: float = 0.95) :\n",
    "    \"\"\"\n",
    "    Вычисление доверительного интервала.\n",
    "\n",
    "    Parameters\n",
    "    ----------\n",
    "    scores: List[float / int]\n",
    "        Список с оценками изучаемой величины.\n",
    "\n",
    "    conf_interval: float, optional, default = 0.95\n",
    "        Уровень доверия для построения интервала.\n",
    "        Опциональный параметр, по умолчанию, равен 0.95.\n",
    "\n",
    "    Returns\n",
    "    -------\n",
    "    conf_interval: Tuple[float]\n",
    "        Кортеж с границами доверительного интервала.\n",
    "\n",
    "    \"\"\"\n",
    "    left_bound = np.percentile(\n",
    "        scores, ((1 - conf_interval) / 2) * 100\n",
    "    )\n",
    "    right_bound = np.percentile(\n",
    "        scores, (conf_interval + ((1 - conf_interval) / 2)) * 100\n",
    "    )\n",
    "\n",
    "    return left_bound, right_bound"
   ]
  },
  {
   "cell_type": "code",
   "execution_count": 7,
   "metadata": {},
   "outputs": [],
   "source": [
    "def test_hold_out_val(df,target,params,n=500):\n",
    "    res = pd.DataFrame()\n",
    "    for j in [0.2,0.25,0.3,0.35]:\n",
    "        score={}\n",
    "        score['test'] = []\n",
    "        score['train'] = []   \n",
    "        for i in range(n):      \n",
    "            x_train, x_test,y_train,y_test = train_test_split(df,target, test_size=j,\\\n",
    "                                                              shuffle=True, random_state=i+1)\n",
    "            dtrain = lgb.Dataset(data = x_train,label=y_train)\n",
    "            dvalid = lgb.Dataset(data=x_test,label=y_test)\n",
    "            model_lgb  = lgb.train(\n",
    "                    params=params,\n",
    "                    train_set=dtrain,\n",
    "                    num_boost_round=10000,\n",
    "                    valid_sets=[dtrain, dvalid],\n",
    "                    categorical_feature='auto',\n",
    "                    verbose_eval=None,\n",
    "                    early_stopping_rounds=95)\n",
    "            score['train'].append(model_lgb.best_score['training']['auc'])\n",
    "            score['test'].append(model_lgb.best_score['valid_1']['auc'])\n",
    "        test = np.array(score['test'])\n",
    "        train = np.array(score['train'])\n",
    "        res.loc[j,'conf_v']=str(calculate_confidence_interval(test))\n",
    "        res.loc[j,'min_v']=test.min()\n",
    "        res.loc[j,'max_v']=test.max()\n",
    "        res.loc[j,'delta_v']=test.max() - test.min()\n",
    "        res.loc[j,'mean_v']=test.mean()\n",
    "        res.loc[j,'std_v']=test.std()\n",
    "        res.loc[j,'delta_mean_v_t']=train.mean()-test.mean()\n",
    "        res.loc[j,'conf_t']=str(calculate_confidence_interval(train))\n",
    "        res.loc[j,'min_t']=train.min()\n",
    "        res.loc[j,'max_t']=train.max()\n",
    "        res.loc[j,'delta_t']=train.max() - train.min()\n",
    "        res.loc[j,'mean_t']=train.mean()\n",
    "        res.loc[j,'std_t']=train.std()\n",
    "    return res  \n",
    "\n",
    "def test_hold_out_val_1(df,target,params,n=100):\n",
    "    res = pd.DataFrame()\n",
    "\n",
    "    score={}\n",
    "    score['test'] = []\n",
    "    score['valid'] = []   \n",
    "    for i in range(n):      \n",
    "        x_train, x_valid,y_train,y_valid = train_test_split(df,target, test_size=0.3,\\\n",
    "                                                              shuffle=True, random_state=i+1)\n",
    "        x_valid, x_test,y_valid,y_test = train_test_split(x_valid,y_valid, test_size=0.5,\\\n",
    "                                                              shuffle=True, random_state=i+1)\n",
    "            \n",
    "            \n",
    "            \n",
    "            \n",
    "        dtrain = lgb.Dataset(data = x_train,label=y_train)\n",
    "        dvalid = lgb.Dataset(data=x_valid,label=y_valid)\n",
    "        model_lgb  = lgb.train(\n",
    "                    params=params_lgb,\n",
    "                    train_set=dtrain,\n",
    "                    num_boost_round=10000,\n",
    "                    valid_sets=[dtrain, dvalid],\n",
    "                    categorical_feature='auto',\n",
    "                    verbose_eval=None,\n",
    "                    early_stopping_rounds=95)\n",
    "        a=roc_auc_score(y_test,model_lgb.predict(x_test))\n",
    "        b=model_lgb.best_score['valid_1']['auc']\n",
    "        score['test'].append(a)\n",
    "        score['valid'].append(b)\n",
    "    test = np.array(score['test'])\n",
    "    valid = np.array(score['valid'])\n",
    "    res.loc[0,'conf_t']=str(calculate_confidence_interval(test))\n",
    "    res.loc[0,'min_t']=test.min()\n",
    "    res.loc[0,'max_t']=test.max()\n",
    "    res.loc[0,'delta_t']=test.max() - test.min()\n",
    "    res.loc[0,'mean_t']=test.mean()\n",
    "    res.loc[0,'std_t']=test.std()\n",
    "    res.loc[0,'delta_mean_v_t']=valid.mean()-test.mean()\n",
    "    res.loc[0,'conf_v']=str(calculate_confidence_interval(valid))\n",
    "    res.loc[0,'min_v']=valid.min()\n",
    "    res.loc[0,'max_v']=valid.max()\n",
    "    res.loc[0,'delta_v']=valid.max() - valid.min()\n",
    "    res.loc[0,'mean_v']=valid.mean()\n",
    "    res.loc[0,'std_v']=valid.std()\n",
    "    return res  \n",
    "\n",
    "\n",
    "\n",
    "\n",
    "def test_cros_val(df,target,model,metric,n=100):\n",
    "    res = pd.DataFrame()\n",
    "    for j in [3,4,5,6,7,8]:\n",
    "        score=[]\n",
    "        std = []\n",
    " \n",
    "        for i in range(n):\n",
    "            cv_strategy = KFold(n_splits=j, shuffle=True, random_state=i+1)        \n",
    "            rusult= make_cross_validation(df, target, model, metric,cv_strategy,print_is=False)\n",
    "            \n",
    "            score.append(rusult[1])\n",
    "            std.append(np.array(rusult[3]).std())\n",
    "\n",
    "        test = np.array(score)\n",
    "        train = np.array(std)\n",
    "\n",
    "        res.loc[j,'conf_of']=str(calculate_confidence_interval(test))\n",
    "        res.loc[j,'min_of']=test.min()\n",
    "        res.loc[j,'max_of']=test.max()\n",
    "        res.loc[j,'delta_of']=test.max() - test.min()\n",
    "        res.loc[j,'mean_of']=test.mean()\n",
    "        res.loc[j,'std_of'] = test.std()\n",
    "        res.loc[j,'conf_st']=str(calculate_confidence_interval(train))\n",
    "        res.loc[j,'min_st']=train.min()\n",
    "        res.loc[j,'max_st']=train.max()\n",
    "        res.loc[j,'delta_st']=train.max() - train.min()\n",
    "        res.loc[j,'mean_st']=train.mean()\n",
    "        res.loc[j,'std_st']=train.std()\n",
    "    return res\n",
    "        "
   ]
  },
  {
   "cell_type": "code",
   "execution_count": 8,
   "metadata": {},
   "outputs": [],
   "source": [
    "def drop_target(df,target='Credit Default'):\n",
    "    return df.drop(target,axis = 1)"
   ]
  },
  {
   "cell_type": "code",
   "execution_count": 15,
   "metadata": {},
   "outputs": [],
   "source": [
    "def test_for_data(        y: pd.Series,\n",
    "                          estimator: object,\n",
    "                          metric: callable,\n",
    "                          cv_strategy: int,\n",
    "                          data: list):\n",
    "    p,t_stats, n_trees,off_n = [], [],[],[]\n",
    "    base_score = np.array([])\n",
    "    for num,i in enumerate(data):\n",
    "        current_score = np.array([])\n",
    "        off = []\n",
    "        \n",
    "        for j in range(20):\n",
    "            fold = KFold(n_splits=cv_strategy, shuffle=True, random_state=j+1)\n",
    "            res = make_cross_validation(i,y,estimator,metric,fold,print_is=False)\n",
    "            scores = res[3]\n",
    "            off.append(res[1])\n",
    "            if num == 0:\n",
    "                base_score = np.append(base_score, scores)\n",
    "            else:\n",
    "                current_score = np.append(current_score, scores)\n",
    "        if num!=0:\n",
    "            t_stat, p_value = ttest_rel(current_score, base_score)\n",
    "            t_stats.append(t_stat)\n",
    "            n_trees.append(num)\n",
    "            p.append(p_value)\n",
    "        off_n.append(off)\n",
    "\n",
    "    plt.plot(n_trees, t_stats)\n",
    "    plt.xlabel('data')\n",
    "    plt.ylabel('t-statistic')\n",
    "    return (t_stats,p),off_n\n",
    "        \n",
    "        \n",
    "def make_cross_validation_cb(X: pd.DataFrame,\n",
    "                          y: pd.Series,\n",
    "                          estimator: object,\n",
    "                          metric: callable,\n",
    "                          cv_strategy,print_is = True):\n",
    "    \"\"\"\n",
    "    Кросс-валидация.\n",
    "\n",
    "    Parameters\n",
    "    ----------\n",
    "    X: pd.DataFrame\n",
    "        Матрица признаков.\n",
    "\n",
    "    y: pd.Series\n",
    "        Вектор целевой переменной.\n",
    "\n",
    "    estimator: callable\n",
    "        Объект модели для обучения.\n",
    "\n",
    "    metric: callable\n",
    "        Метрика для оценки качества решения.\n",
    "        Ожидается, что на вход будет передана функция,\n",
    "        которая принимает 2 аргумента: y_true, y_pred.\n",
    "\n",
    "    cv_strategy: cross-validation generator\n",
    "        Объект для описания стратегии кросс-валидации.\n",
    "        Ожидается, что на вход будет передан объект типа\n",
    "        KFold или StratifiedKFold.\n",
    "\n",
    "    Returns\n",
    "    -------\n",
    "    oof_score: float\n",
    "        Значение метрики качества на OOF-прогнозах.\n",
    "\n",
    "    fold_train_scores: List[float]\n",
    "        Значение метрики качества на каждом обучающем датасете кросс-валидации.\n",
    "\n",
    "    fold_valid_scores: List[float]\n",
    "        Значение метрики качества на каждом валидационном датасете кросс-валидации.\n",
    "\n",
    "    oof_predictions: np.array\n",
    "        Прогнозы на OOF.\n",
    "\n",
    "    \"\"\"\n",
    "    \n",
    "    estimators, fold_train_scores, fold_valid_scores = [], [], []\n",
    "    oof_predictions = np.zeros(X.shape[0])\n",
    "\n",
    "    for fold_number, (train_idx, valid_idx) in enumerate(cv_strategy.split(X, y)):\n",
    "        x_train, x_valid = X.iloc[train_idx], X.iloc[valid_idx]\n",
    "        y_train, y_valid = y.iloc[train_idx], y.iloc[valid_idx]\n",
    "\n",
    "        estimator.fit(x_train, y_train) \n",
    "\n",
    "        y_valid_pred = estimator.predict_proba(x_valid)[:,1]\n",
    "        y_train_pred = estimator.predict_proba(x_train)[:,1]\n",
    "        \n",
    "        \n",
    "        fold_train_scores.append(metric(y_train, y_train_pred))\n",
    "        fold_valid_scores.append(metric(y_valid, y_valid_pred))\n",
    "        oof_predictions[valid_idx] = y_valid_pred\n",
    "\n",
    "        msg = (\n",
    "            f\"Fold: {fold_number+1}, train-observations = {len(train_idx)}, \"\n",
    "            f\"valid-observations = {len(valid_idx)}\\n\"\n",
    "            f\"train-score = {round(fold_train_scores[fold_number], 4)}, \"\n",
    "            f\"valid-score = {round(fold_valid_scores[fold_number], 4)}\" \n",
    "        )\n",
    "        if print_is:\n",
    "            print(msg)\n",
    "            print(\"=\"*69)\n",
    "        estimators.append(estimator)\n",
    "    oof_score = metric(y, oof_predictions)\n",
    "    if print_is:\n",
    "        print(f\"CV-results train: {round(np.mean(fold_train_scores), 4)} +/- {round(np.std(fold_train_scores), 3)}\")\n",
    "        print(f\"CV-results valid: {round(np.mean(fold_valid_scores), 4)} +/- {round(np.std(fold_valid_scores), 3)}\")\n",
    "        print(f\"OOF-score = {round(oof_score, 4)}\")\n",
    "\n",
    "    return estimators, oof_score, fold_train_scores, fold_valid_scores, oof_predictions        \n",
    "    \n",
    "    \n",
    "\n"
   ]
  },
  {
   "cell_type": "code",
   "execution_count": 10,
   "metadata": {},
   "outputs": [],
   "source": [
    "def balance_df_by_target(df, target_name):\n",
    "\n",
    "    target_counts = df[target_name].value_counts()\n",
    "\n",
    "    major_class_name = target_counts.argmax()\n",
    "    minor_class_name = target_counts.argmin()\n",
    "\n",
    "    disbalance_coeff = int(target_counts[major_class_name] / target_counts[minor_class_name]) - 1\n",
    "\n",
    "    for i in range(disbalance_coeff):\n",
    "        sample = df[df[target_name] == minor_class_name].sample(target_counts[minor_class_name])\n",
    "        df = df.append(sample, ignore_index=True)\n",
    "\n",
    "    return df.sample(frac=1) "
   ]
  },
  {
   "cell_type": "code",
   "execution_count": 11,
   "metadata": {},
   "outputs": [],
   "source": [
    "train[categorical_features] =train[categorical_features].astype('str')\n",
    "test[categorical_features] =test[categorical_features].astype('str')\n"
   ]
  },
  {
   "cell_type": "code",
   "execution_count": 12,
   "metadata": {},
   "outputs": [
    {
     "data": {
      "text/plain": [
       "dict_keys(['start', '1', '2', '3', '1-1', '1-2', '1-3', '2-1', '2-2', '2-3', '3-1', '3-2', '3-3', '4', '5', '6', '4-2', '5-2', '6-2'])"
      ]
     },
     "execution_count": 12,
     "metadata": {},
     "output_type": "execute_result"
    }
   ],
   "source": [
    "train_work.keys()"
   ]
  },
  {
   "cell_type": "code",
   "execution_count": 13,
   "metadata": {},
   "outputs": [],
   "source": [
    "for i in train_work:\n",
    "    a = categorical_features.copy()\n",
    "    a.remove('Purpose')\n",
    "    a.remove( 'Tax Liens')\n",
    "    if i in ['4-2','5-2','6-2']:\n",
    "        continue\n",
    "    train_work[i][categorical_features] =train_work[i][categorical_features].astype('str')\n",
    "    test_work[i][categorical_features] =train_work[i][categorical_features].astype('str')"
   ]
  },
  {
   "cell_type": "code",
   "execution_count": 168,
   "metadata": {},
   "outputs": [],
   "source": [
    "param_cb = {\n",
    "    \"n_estimators\": 800,\n",
    "    \"loss_function\": \"Logloss\",\n",
    "    \n",
    "#     \"loss_function\": 'CrossEntropy',\n",
    "    \"eval_metric\": \"AUC\",\n",
    "    \"task_type\": \"CPU\",\n",
    "    \"thread_count\": -1,\n",
    "    \"early_stopping_rounds\": 90,\n",
    "    'custom_metric':  ['AUC'],\n",
    "#     'cat_features' : categorical_features,\n",
    "    \"verbose\": False,\n",
    "    \"random_seed\": 42,\n",
    "    \"max_bin\": 30,\n",
    "    'learning_rate':0.05,\n",
    "    \"max_depth\": 2,\n",
    "    \"l2_leaf_reg\": 28, \n",
    "#     'random_strength':150,\n",
    "#     'bagging_temperature':500,\n",
    "    \n",
    "    \n",
    "    \n",
    "    }\n",
    "model_cb = cb.CatBoostClassifier(**param_cb)\n"
   ]
  },
  {
   "cell_type": "markdown",
   "metadata": {},
   "source": [
    "Крос валидация"
   ]
  },
  {
   "cell_type": "code",
   "execution_count": 164,
   "metadata": {},
   "outputs": [],
   "source": [
    "X_train = drop_target(train_work['3-3']).copy()"
   ]
  },
  {
   "cell_type": "code",
   "execution_count": 165,
   "metadata": {},
   "outputs": [],
   "source": [
    "cv_strategy = KFold(n_splits=5, shuffle=True, random_state=100)"
   ]
  },
  {
   "cell_type": "code",
   "execution_count": 166,
   "metadata": {},
   "outputs": [
    {
     "name": "stdout",
     "output_type": "stream",
     "text": [
      "Fold: 1, train-observations = 6000, valid-observations = 1500\n",
      "train-score = 0.8231, valid-score = 0.785\n",
      "=====================================================================\n",
      "Fold: 2, train-observations = 6000, valid-observations = 1500\n",
      "train-score = 0.8282, valid-score = 0.7794\n",
      "=====================================================================\n",
      "Fold: 3, train-observations = 6000, valid-observations = 1500\n",
      "train-score = 0.8233, valid-score = 0.7842\n",
      "=====================================================================\n",
      "Fold: 4, train-observations = 6000, valid-observations = 1500\n",
      "train-score = 0.8281, valid-score = 0.7835\n",
      "=====================================================================\n",
      "Fold: 5, train-observations = 6000, valid-observations = 1500\n",
      "train-score = 0.8296, valid-score = 0.7589\n",
      "=====================================================================\n",
      "CV-results train: 0.8265 +/- 0.003\n",
      "CV-results valid: 0.7782 +/- 0.01\n",
      "OOF-score = 0.7777\n",
      "Wall time: 8.4 s\n"
     ]
    }
   ],
   "source": [
    "%%time\n",
    "res = make_cross_validation_cb(\n",
    "    X_train, target, model_cb, metric=roc_auc_score, cv_strategy=cv_strategy\n",
    "            )"
   ]
  },
  {
   "cell_type": "markdown",
   "metadata": {},
   "source": [
    "Крос валидация на разных рандомах"
   ]
  },
  {
   "cell_type": "code",
   "execution_count": 70,
   "metadata": {},
   "outputs": [
    {
     "name": "stderr",
     "output_type": "stream",
     "text": [
      "100%|████████████████████████████████████████████████████████████████████████████████| 100/100 [22:09<00:00, 13.29s/it]"
     ]
    },
    {
     "name": "stdout",
     "output_type": "stream",
     "text": [
      "============================================================\n",
      "0.7753980542982173 0.0014265587871641445 0.7789236168367679 0.7724749007948971\n",
      "Wall time: 22min 9s\n"
     ]
    },
    {
     "name": "stderr",
     "output_type": "stream",
     "text": [
      "\n"
     ]
    }
   ],
   "source": [
    "%%time\n",
    "n = 100\n",
    "res_all=[]\n",
    "for i in tqdm(range(n)):\n",
    "    fold = KFold(n_splits=5, shuffle=True, random_state=i)\n",
    "    res = make_cross_validation_cb(\n",
    "    X_train, target, model_cb, metric=roc_auc_score,\\\n",
    "        cv_strategy=fold,print_is=False\n",
    "            )\n",
    "    res_all.append(res[1])\n",
    "a = np.array(res_all) \n",
    "print('='*60)\n",
    "print(a.mean(),a.std(),a.max(),a.min())\n",
    "    "
   ]
  },
  {
   "cell_type": "code",
   "execution_count": 28,
   "metadata": {},
   "outputs": [
    {
     "data": {
      "text/plain": [
       "<catboost.core.CatBoostClassifier at 0x179f31294f0>"
      ]
     },
     "execution_count": 28,
     "metadata": {},
     "output_type": "execute_result"
    }
   ],
   "source": [
    "model_cb.fit(x_trainain,target)"
   ]
  },
  {
   "cell_type": "code",
   "execution_count": 31,
   "metadata": {},
   "outputs": [
    {
     "data": {
      "text/plain": [
       "<BarContainer object of 16 artists>"
      ]
     },
     "execution_count": 31,
     "metadata": {},
     "output_type": "execute_result"
    },
    {
     "data": {
      "image/png": "[encoded data removed]",
      "text/plain": [
       "<Figure size 1440x1080 with 1 Axes>"
      ]
     },
     "metadata": {
      "needs_background": "light"
     },
     "output_type": "display_data"
    }
   ],
   "source": [
    "model_cb.feature_importances_\n",
    "d = list(zip(test.columns.to_list(),model_cb.feature_importances_))\n",
    "x = list(map(lambda x:x[0],(sorted(d,key = lambda x: x[1],reverse=True))))\n",
    "y = list(map(lambda x:x[1],(sorted(d,key = lambda x: x[1],reverse=True))))\n",
    "fig = plt.figure(figsize=(20,15))\n",
    "plt.bar(x,y)\n"
   ]
  },
  {
   "cell_type": "code",
   "execution_count": null,
   "metadata": {},
   "outputs": [],
   "source": [
    "importance = x[:-3]\n",
    "importance"
   ]
  },
  {
   "cell_type": "code",
   "execution_count": null,
   "metadata": {},
   "outputs": [],
   "source": []
  },
  {
   "cell_type": "code",
   "execution_count": 916,
   "metadata": {},
   "outputs": [],
   "source": []
  },
  {
   "cell_type": "markdown",
   "metadata": {},
   "source": [
    "Сравним наборы данных по фолдам крос валидации"
   ]
  },
  {
   "cell_type": "markdown",
   "metadata": {},
   "source": [
    "Балансировка признаков"
   ]
  },
  {
   "cell_type": "code",
   "execution_count": 80,
   "metadata": {},
   "outputs": [],
   "source": [
    "x_train, x_valid,y_train,y_valid = train_test_split(train_work['3-3'],target, test_size=0.3,\\\n",
    "                                                              shuffle=True, random_state=89)\n"
   ]
  },
  {
   "cell_type": "code",
   "execution_count": 81,
   "metadata": {},
   "outputs": [],
   "source": [
    "x_valid, x_test,y_valid,y_test = train_test_split(x_valid,y_valid, test_size=0.5,\\\n",
    "                                                              shuffle=True, random_state=89)"
   ]
  },
  {
   "cell_type": "code",
   "execution_count": 83,
   "metadata": {},
   "outputs": [],
   "source": [
    "train_balanced = balance_df_by_target(x_train, target_col[0])\n"
   ]
  },
  {
   "cell_type": "code",
   "execution_count": 84,
   "metadata": {},
   "outputs": [],
   "source": [
    "target_balanced = train_balanced[target_col[0]]"
   ]
  },
  {
   "cell_type": "code",
   "execution_count": 85,
   "metadata": {},
   "outputs": [
    {
     "name": "stdout",
     "output_type": "stream",
     "text": [
      "Fold: 1, train-observations = 5353, valid-observations = 1339\n",
      "train-score = 0.8321, valid-score = 0.8006\n",
      "=====================================================================\n",
      "Fold: 2, train-observations = 5353, valid-observations = 1339\n",
      "train-score = 0.8267, valid-score = 0.8003\n",
      "=====================================================================\n",
      "Fold: 3, train-observations = 5354, valid-observations = 1338\n",
      "train-score = 0.8348, valid-score = 0.7921\n",
      "=====================================================================\n",
      "Fold: 4, train-observations = 5354, valid-observations = 1338\n",
      "train-score = 0.8306, valid-score = 0.7965\n",
      "=====================================================================\n",
      "Fold: 5, train-observations = 5354, valid-observations = 1338\n",
      "train-score = 0.8289, valid-score = 0.7756\n",
      "=====================================================================\n",
      "CV-results train: 0.8306 +/- 0.003\n",
      "CV-results valid: 0.793 +/- 0.009\n",
      "OOF-score = 0.7914\n"
     ]
    }
   ],
   "source": [
    "res_ = make_cross_validation_cb(\n",
    "    drop_target(train_balanced), target_balanced, model_cb, metric=roc_auc_score, cv_strategy=cv_strategy\n",
    "            )"
   ]
  },
  {
   "cell_type": "markdown",
   "metadata": {},
   "source": [
    "Обучим на сбалансированной, с учетом валидации первой отложенной выборки и контроля на второй отложенной выборке"
   ]
  },
  {
   "cell_type": "code",
   "execution_count": 87,
   "metadata": {},
   "outputs": [
    {
     "data": {
      "text/plain": [
       "<catboost.core.CatBoostClassifier at 0x179f7f13520>"
      ]
     },
     "execution_count": 87,
     "metadata": {},
     "output_type": "execute_result"
    }
   ],
   "source": [
    "model_cb.fit(drop_target(train_balanced), target_balanced) "
   ]
  },
  {
   "cell_type": "code",
   "execution_count": 89,
   "metadata": {},
   "outputs": [
    {
     "data": {
      "text/plain": [
       "{'learn': {'Logloss': 0.491922834948151}}"
      ]
     },
     "execution_count": 89,
     "metadata": {},
     "output_type": "execute_result"
    }
   ],
   "source": [
    "model_cb.best_score_"
   ]
  },
  {
   "cell_type": "code",
   "execution_count": 90,
   "metadata": {},
   "outputs": [],
   "source": [
    "y_test_pred = model_cb.predict_proba(drop_target(x_test))[:,1]"
   ]
  },
  {
   "cell_type": "code",
   "execution_count": 91,
   "metadata": {},
   "outputs": [
    {
     "data": {
      "text/plain": [
       "0.7886361947231513"
      ]
     },
     "execution_count": 91,
     "metadata": {},
     "output_type": "execute_result"
    }
   ],
   "source": [
    "roc_auc_score(y_test,y_test_pred)"
   ]
  },
  {
   "cell_type": "code",
   "execution_count": 170,
   "metadata": {},
   "outputs": [
    {
     "name": "stderr",
     "output_type": "stream",
     "text": [
      "100%|████████████████████████████████████████████████████████████████████████████████| 100/100 [02:52<00:00,  1.73s/it]"
     ]
    },
    {
     "name": "stdout",
     "output_type": "stream",
     "text": [
      "============================================================\n",
      "0.7729402876012158 0.013491596506937808 0.8039857806264926 0.7387457922325869\n",
      "Wall time: 2min 52s\n"
     ]
    },
    {
     "name": "stderr",
     "output_type": "stream",
     "text": [
      "\n"
     ]
    }
   ],
   "source": [
    "%%time\n",
    "res_2 = []\n",
    "for i in tqdm( range(100)):\n",
    "   \n",
    "    x_train, x_valid,y_train,y_valid = train_test_split(train_work['3-3'],target, test_size=0.3,\\\n",
    "                                                              shuffle=True, random_state=np.random.randint(1000))\n",
    "    x_valid, x_test,y_valid,y_test = train_test_split(x_valid,y_valid, test_size=0.5,\\\n",
    "                                                              shuffle=True, random_state=np.random.randint(1000))\n",
    "#     print(x_valid.shape,x_test.shape)\n",
    "    train_balanced = balance_df_by_target(x_train, target_col[0])\n",
    "    target_balanced = train_balanced[target_col[0]]\n",
    "    model_1 =cb.CatBoostClassifier(**param_cb)\n",
    "    model_1.fit(drop_target(train_balanced), target_balanced)\n",
    "    y_test_pred = model_1.predict_proba(drop_target(x_test))[:,1]\n",
    "    res_2.append(roc_auc_score(y_test,y_test_pred))\n",
    "#     print(res_2[-1])\n",
    "#     print(model_1.best_score_)\n",
    "a = np.array(res_2) \n",
    "print('='*60)\n",
    "print(a.mean(),a.std(),a.max(),a.min())\n",
    "    \n",
    "    "
   ]
  },
  {
   "cell_type": "markdown",
   "metadata": {},
   "source": [
    "Adversarial validation"
   ]
  },
  {
   "cell_type": "code",
   "execution_count": 94,
   "metadata": {},
   "outputs": [],
   "source": [
    "a = drop_target(train)\n",
    "b = test.copy()\n",
    "\n",
    "x_adv = pd.concat([\n",
    "    a, b], axis=0\n",
    ")\n",
    "y_adv = np.hstack((np.zeros(train.shape[0]), np.ones(test.shape[0])))\n",
    "assert x_adv.shape[0] == y_adv.shape[0]\n",
    "x_adv = x_adv.reset_index(drop=True)\n",
    "x_adv[categorical_features]=x_adv[categorical_features].astype('category')"
   ]
  },
  {
   "cell_type": "code",
   "execution_count": 336,
   "metadata": {},
   "outputs": [],
   "source": [
    "# p = {\n",
    "#     \"boosting_type\": \"gbdt\",\n",
    "#     \"objective\": \"binary\",\n",
    "#     \"metric\": \"auc\",\n",
    "#     \"learning_rate\": 0.05,\n",
    "#     \"n_estimators\": 10,\n",
    "#     \"n_jobs\": 15,\n",
    "#     \"seed\": 28,\n",
    "#     'num_boost_round':1000,\n",
    "# #     \"early_stopping_rounds\":90, \n",
    "#     'reg_alpha': 7,\n",
    "#     'reg_lambda': 10,\n",
    "#     'max_depth': 4,\n",
    "#     'min_child_samples':60,\n",
    "# #     'min_split_gain':1\n",
    "# #     'categorical_feature':categorical_features,\n",
    "# }"
   ]
  },
  {
   "cell_type": "code",
   "execution_count": 95,
   "metadata": {},
   "outputs": [],
   "source": [
    "m = cb.CatBoostClassifier(**param_cb)"
   ]
  },
  {
   "cell_type": "code",
   "execution_count": 96,
   "metadata": {},
   "outputs": [
    {
     "data": {
      "text/plain": [
       "{'learning_rate': 0.05,\n",
       " 'l2_leaf_reg': 28,\n",
       " 'loss_function': 'Logloss',\n",
       " 'random_seed': 42,\n",
       " 'verbose': False,\n",
       " 'custom_metric': ['AUC'],\n",
       " 'eval_metric': 'AUC',\n",
       " 'task_type': 'CPU',\n",
       " 'max_depth': 2,\n",
       " 'n_estimators': 800,\n",
       " 'max_bin': 30,\n",
       " 'early_stopping_rounds': 90,\n",
       " 'cat_features': ['Home Ownership', 'Tax Liens', 'Purpose', 'Term']}"
      ]
     },
     "execution_count": 96,
     "metadata": {},
     "output_type": "execute_result"
    }
   ],
   "source": [
    "m.get_params()"
   ]
  },
  {
   "cell_type": "code",
   "execution_count": 97,
   "metadata": {},
   "outputs": [
    {
     "data": {
      "text/plain": [
       "<catboost.core.CatBoostClassifier at 0x179f8bf9ca0>"
      ]
     },
     "execution_count": 97,
     "metadata": {},
     "output_type": "execute_result"
    }
   ],
   "source": [
    "m.fit(x_adv,y_adv)"
   ]
  },
  {
   "cell_type": "code",
   "execution_count": 98,
   "metadata": {},
   "outputs": [
    {
     "data": {
      "text/plain": [
       "{'learn': {'Logloss': 0.5480184408876536}}"
      ]
     },
     "execution_count": 98,
     "metadata": {},
     "output_type": "execute_result"
    }
   ],
   "source": [
    "m.best_score_"
   ]
  },
  {
   "cell_type": "code",
   "execution_count": 99,
   "metadata": {},
   "outputs": [
    {
     "name": "stdout",
     "output_type": "stream",
     "text": [
      "0.6335\n"
     ]
    }
   ],
   "source": [
    "y_pred_adv = m.predict_proba(x_adv)\n",
    "score = roc_auc_score(y_adv, y_pred_adv[:, 1])\n",
    "print(round(score, 4))"
   ]
  },
  {
   "cell_type": "code",
   "execution_count": 100,
   "metadata": {},
   "outputs": [],
   "source": [
    "y_pred = m.predict_proba(drop_target(train))"
   ]
  },
  {
   "cell_type": "code",
   "execution_count": 101,
   "metadata": {},
   "outputs": [
    {
     "data": {
      "text/plain": [
       "array([0.19133978, 0.28734462, 0.27013243, ..., 0.26645792, 0.1753303 ,\n",
       "       0.22905797])"
      ]
     },
     "execution_count": 101,
     "metadata": {},
     "output_type": "execute_result"
    }
   ],
   "source": [
    "y_pred=y_pred[:, 1]\n",
    "y_pred"
   ]
  },
  {
   "cell_type": "code",
   "execution_count": 104,
   "metadata": {},
   "outputs": [
    {
     "data": {
      "text/plain": [
       "(0.0, 0.03]        0\n",
       "(0.03, 0.06]       0\n",
       "(0.06, 0.09]       0\n",
       "(0.09, 0.12]       4\n",
       "(0.12, 0.15]      17\n",
       "(0.15, 0.18]     159\n",
       "(0.18, 0.21]     565\n",
       "(0.21, 0.24]    2438\n",
       "(0.24, 0.27]    2812\n",
       "(0.27, 0.3]     1181\n",
       "(0.3, 0.33]      260\n",
       "(0.33, 0.36]      53\n",
       "(0.36, 0.39]      11\n",
       "(0.39, 0.42]       0\n",
       "(0.42, 0.45]       0\n",
       "(0.45, 0.48]       0\n",
       "(0.48, 0.51]       0\n",
       "(0.51, 0.54]       0\n",
       "(0.54, 0.57]       0\n",
       "(0.57, 0.6]        0\n",
       "(0.6, 0.63]        0\n",
       "(0.63, 0.66]       0\n",
       "(0.66, 0.69]       0\n",
       "(0.69, 0.72]       0\n",
       "(0.72, 0.75]       0\n",
       "(0.75, 0.78]       0\n",
       "(0.78, 0.81]       0\n",
       "(0.81, 0.84]       0\n",
       "(0.84, 0.87]       0\n",
       "(0.87, 0.9]        0\n",
       "(0.9, 0.93]        0\n",
       "(0.93, 0.96]       0\n",
       "(0.96, 0.99]       0\n",
       "dtype: int64"
      ]
     },
     "execution_count": 104,
     "metadata": {},
     "output_type": "execute_result"
    }
   ],
   "source": [
    "pd.cut(\n",
    "    y_pred, bins=np.arange(0, 1.01, 0.03)\n",
    ").value_counts().sort_index()"
   ]
  },
  {
   "cell_type": "code",
   "execution_count": 105,
   "metadata": {},
   "outputs": [],
   "source": [
    "idx_val= np.where(y_pred>0.27)\n",
    "idx_tr = np.where(y_pred<=0.27)"
   ]
  },
  {
   "cell_type": "code",
   "execution_count": 114,
   "metadata": {},
   "outputs": [],
   "source": [
    "x_valid = train_work['3-3'].loc[idx_val]\n",
    "x_train = train_work['3-3'].loc[idx_tr]\n",
    "\n",
    "y_valid = x_valid[target_col[0]]\n",
    "y_train = x_train[target_col[0]]\n",
    "\n",
    "x_valid = drop_target(x_valid.loc[idx_val])\n",
    "x_train = drop_target(x_train.loc[idx_tr])\n"
   ]
  },
  {
   "cell_type": "code",
   "execution_count": null,
   "metadata": {},
   "outputs": [],
   "source": []
  },
  {
   "cell_type": "code",
   "execution_count": 116,
   "metadata": {},
   "outputs": [
    {
     "data": {
      "text/plain": [
       "<catboost.core.CatBoostClassifier at 0x179f7f13520>"
      ]
     },
     "execution_count": 116,
     "metadata": {},
     "output_type": "execute_result"
    }
   ],
   "source": [
    "model_cb.fit(x_train,y_train)"
   ]
  },
  {
   "cell_type": "code",
   "execution_count": 117,
   "metadata": {},
   "outputs": [
    {
     "data": {
      "text/plain": [
       "{'learn': {'Logloss': 0.4434118361714379}}"
      ]
     },
     "execution_count": 117,
     "metadata": {},
     "output_type": "execute_result"
    }
   ],
   "source": [
    "model_cb.best_score_"
   ]
  },
  {
   "cell_type": "code",
   "execution_count": 118,
   "metadata": {},
   "outputs": [
    {
     "data": {
      "text/plain": [
       "0.8397961152433191"
      ]
     },
     "execution_count": 118,
     "metadata": {},
     "output_type": "execute_result"
    }
   ],
   "source": [
    "roc_auc_score(y_valid,model_cb.predict_proba(x_valid)[0:,1])"
   ]
  },
  {
   "cell_type": "code",
   "execution_count": null,
   "metadata": {},
   "outputs": [],
   "source": []
  },
  {
   "cell_type": "code",
   "execution_count": 119,
   "metadata": {},
   "outputs": [
    {
     "data": {
      "text/plain": [
       "<catboost.core.CatBoostClassifier at 0x179f7f13520>"
      ]
     },
     "execution_count": 119,
     "metadata": {},
     "output_type": "execute_result"
    }
   ],
   "source": [
    "model_cb.fit(x_train,y_train)"
   ]
  },
  {
   "cell_type": "code",
   "execution_count": 121,
   "metadata": {},
   "outputs": [
    {
     "data": {
      "text/plain": [
       "{'learn': {'Logloss': 0.4434118361714379}}"
      ]
     },
     "execution_count": 121,
     "metadata": {},
     "output_type": "execute_result"
    }
   ],
   "source": [
    "model_cb.best_score_"
   ]
  },
  {
   "cell_type": "code",
   "execution_count": 123,
   "metadata": {},
   "outputs": [
    {
     "data": {
      "text/plain": [
       "0.8397961152433191"
      ]
     },
     "execution_count": 123,
     "metadata": {},
     "output_type": "execute_result"
    }
   ],
   "source": [
    "roc_auc_score(y_valid,model_cb.predict_proba(x_valid)[0:,1])"
   ]
  },
  {
   "cell_type": "code",
   "execution_count": 124,
   "metadata": {},
   "outputs": [
    {
     "data": {
      "text/plain": [
       "(1505, 16)"
      ]
     },
     "execution_count": 124,
     "metadata": {},
     "output_type": "execute_result"
    }
   ],
   "source": [
    "X_valid.shape"
   ]
  },
  {
   "cell_type": "code",
   "execution_count": 125,
   "metadata": {},
   "outputs": [],
   "source": [
    "def show_proba_calibration_plots(y_predicted_probs, y_true_labels):\n",
    "    preds_with_true_labels = np.array(list(zip(y_predicted_probs, y_true_labels)))\n",
    "\n",
    "    thresholds = []\n",
    "    precisions = []\n",
    "    recalls = []\n",
    "    f1_scores = []\n",
    "\n",
    "    for threshold in np.linspace(0.1, 0.9, 9):\n",
    "        thresholds.append(threshold)\n",
    "        precisions.append(precision_score(y_true_labels, list(map(int, y_predicted_probs > threshold))))\n",
    "        recalls.append(recall_score(y_true_labels, list(map(int, y_predicted_probs > threshold))))\n",
    "        f1_scores.append(f1_score(y_true_labels, list(map(int, y_predicted_probs > threshold))))\n",
    "\n",
    "    scores_table = pd.DataFrame({'f1':f1_scores,\n",
    "                                 'precision':precisions,\n",
    "                                 'recall':recalls,\n",
    "                                 'probability':thresholds}).sort_values('f1', ascending=False).round(3)\n",
    "  \n",
    "    figure = plt.figure(figsize = (15, 5))\n",
    "\n",
    "    plt1 = figure.add_subplot(121)\n",
    "    plt1.plot(thresholds, precisions, label='Precision', linewidth=4)\n",
    "    plt1.plot(thresholds, recalls, label='Recall', linewidth=4)\n",
    "    plt1.plot(thresholds, f1_scores, label='F1', linewidth=4)\n",
    "    plt1.set_ylabel('Scores')\n",
    "    plt1.set_xlabel('Probability threshold')\n",
    "    plt1.set_title('Probabilities threshold calibration')\n",
    "    plt1.legend(bbox_to_anchor=(0.25, 0.25))   \n",
    "    plt1.table(cellText = scores_table.values,\n",
    "               colLabels = scores_table.columns, \n",
    "               colLoc = 'center', cellLoc = 'center', loc = 'bottom', bbox = [0, -1.3, 1, 1])\n",
    "\n",
    "    plt2 = figure.add_subplot(122)\n",
    "    plt2.hist(preds_with_true_labels[preds_with_true_labels[:, 1] == 0][:, 0], \n",
    "              label='Another class', color='royalblue', alpha=1)\n",
    "    plt2.hist(preds_with_true_labels[preds_with_true_labels[:, 1] == 1][:, 0], \n",
    "              label='Main class', color='darkcyan', alpha=0.8)\n",
    "    plt2.set_ylabel('Number of examples')\n",
    "    plt2.set_xlabel('Probabilities')\n",
    "    plt2.set_title('Probability histogram')\n",
    "    plt2.legend(bbox_to_anchor=(1, 1))\n",
    "\n",
    "    plt.show()"
   ]
  },
  {
   "cell_type": "code",
   "execution_count": 126,
   "metadata": {},
   "outputs": [],
   "source": [
    "def show_learning_curve_plot(estimator, X, y, cv=3, n_jobs=-1, train_sizes=np.linspace(.1, 1.0, 5)):\n",
    "\n",
    "    train_sizes, train_scores, test_scores = learning_curve(estimator, X, y, \n",
    "                                                            cv=cv, \n",
    "                                                            scoring='f1',\n",
    "                                                            train_sizes=train_sizes, \n",
    "                                                            n_jobs=n_jobs)\n",
    "    train_scores_mean = np.mean(train_scores, axis=1)\n",
    "    train_scores_std = np.std(train_scores, axis=1)\n",
    "    test_scores_mean = np.mean(test_scores, axis=1)\n",
    "    test_scores_std = np.std(test_scores, axis=1)\n",
    "\n",
    "    plt.figure(figsize=(15,8))\n",
    "    plt.fill_between(train_sizes, train_scores_mean - train_scores_std,\n",
    "                     train_scores_mean + train_scores_std, alpha=0.1, color=\"r\")\n",
    "    plt.fill_between(train_sizes, test_scores_mean - test_scores_std,\n",
    "                     test_scores_mean + test_scores_std, alpha=0.1, color=\"g\")\n",
    "    plt.plot(train_sizes, train_scores_mean, 'o-', color=\"r\",\n",
    "             label=\"Training score\")\n",
    "    plt.plot(train_sizes, test_scores_mean, 'o-', color=\"g\",\n",
    "             label=\"Cross-validation score\")\n",
    "\n",
    "    plt.title(f\"Learning curves ({type(estimator).__name__})\")\n",
    "    plt.xlabel(\"Training examples\")\n",
    "    plt.ylabel(\"Score\")     \n",
    "    plt.legend(loc=\"best\")\n",
    "    plt.grid()\n",
    "    plt.show()"
   ]
  },
  {
   "cell_type": "code",
   "execution_count": 127,
   "metadata": {},
   "outputs": [],
   "source": [
    "def get_classification_report(y_train_true, y_train_pred, y_test_true, y_test_pred):\n",
    "    print('TRAIN\\n\\n' + classification_report(y_train_true, y_train_pred))\n",
    "    print('TEST\\n\\n' + classification_report(y_test_true, y_test_pred))\n",
    "    print('CONFUSION MATRIX\\n')\n",
    "    print(pd.crosstab(y_test_true, y_test_pred))"
   ]
  },
  {
   "cell_type": "code",
   "execution_count": 128,
   "metadata": {},
   "outputs": [],
   "source": [
    "def get_best_split(pred,y_test):\n",
    "    d = {}\n",
    "    for i in np.arange(0.05,0.96,0.01):\n",
    "        z = np.where(pred < i, 0, 1)\n",
    "        d[i] = f1_score(y_test,z)\n",
    "    return sorted(d, key=d.get, reverse=True)[0]\n",
    "    "
   ]
  },
  {
   "cell_type": "code",
   "execution_count": 132,
   "metadata": {},
   "outputs": [
    {
     "data": {
      "text/plain": [
       "<catboost.core.CatBoostClassifier at 0x179f85aa8b0>"
      ]
     },
     "execution_count": 132,
     "metadata": {},
     "output_type": "execute_result"
    }
   ],
   "source": [
    "model_cb.fit(drop_target(train_work['3-3']),target)"
   ]
  },
  {
   "cell_type": "code",
   "execution_count": 133,
   "metadata": {},
   "outputs": [],
   "source": [
    "y_train_pred= model_cb.predict_proba(drop_target(train_work['3-3']))[:,1]"
   ]
  },
  {
   "cell_type": "code",
   "execution_count": 134,
   "metadata": {},
   "outputs": [
    {
     "data": {
      "image/png": "[encoded data removed]",
      "text/plain": [
       "<Figure size 1080x360 with 2 Axes>"
      ]
     },
     "metadata": {
      "needs_background": "light"
     },
     "output_type": "display_data"
    }
   ],
   "source": [
    "show_proba_calibration_plots(res[4], target)"
   ]
  },
  {
   "cell_type": "code",
   "execution_count": 135,
   "metadata": {},
   "outputs": [
    {
     "data": {
      "image/png": "[encoded data removed]",
      "text/plain": [
       "<Figure size 1080x576 with 1 Axes>"
      ]
     },
     "metadata": {
      "needs_background": "light"
     },
     "output_type": "display_data"
    }
   ],
   "source": [
    "show_learning_curve_plot(model_cb, drop_target(train_work['3-3']), target, cv=5, n_jobs=-1)"
   ]
  },
  {
   "cell_type": "code",
   "execution_count": 136,
   "metadata": {},
   "outputs": [
    {
     "data": {
      "text/plain": [
       "0.26000000000000006"
      ]
     },
     "execution_count": 136,
     "metadata": {},
     "output_type": "execute_result"
    }
   ],
   "source": [
    "bs = get_best_split(res[4], target)\n",
    "bs"
   ]
  },
  {
   "cell_type": "code",
   "execution_count": 153,
   "metadata": {},
   "outputs": [],
   "source": [
    "y_train_pred=np.where(y_train_pred<0.33,0,1)\n",
    "y_test_pred = np.where(res[4]<0.33,0,1)"
   ]
  },
  {
   "cell_type": "code",
   "execution_count": 154,
   "metadata": {},
   "outputs": [
    {
     "name": "stdout",
     "output_type": "stream",
     "text": [
      "TRAIN\n",
      "\n",
      "              precision    recall  f1-score   support\n",
      "\n",
      "           0       0.88      0.67      0.76      5387\n",
      "           1       0.48      0.77      0.59      2113\n",
      "\n",
      "    accuracy                           0.70      7500\n",
      "   macro avg       0.68      0.72      0.68      7500\n",
      "weighted avg       0.77      0.70      0.71      7500\n",
      "\n",
      "TEST\n",
      "\n",
      "              precision    recall  f1-score   support\n",
      "\n",
      "           0       0.82      0.83      0.83      5387\n",
      "           1       0.55      0.54      0.55      2113\n",
      "\n",
      "    accuracy                           0.75      7500\n",
      "   macro avg       0.69      0.68      0.69      7500\n",
      "weighted avg       0.75      0.75      0.75      7500\n",
      "\n",
      "CONFUSION MATRIX\n",
      "\n",
      "col_0              0     1\n",
      "Credit Default            \n",
      "0               4472   915\n",
      "1                977  1136\n"
     ]
    }
   ],
   "source": [
    "get_classification_report(target, y_train_pred, target, y_test_pred)"
   ]
  },
  {
   "cell_type": "code",
   "execution_count": null,
   "metadata": {},
   "outputs": [],
   "source": []
  },
  {
   "cell_type": "code",
   "execution_count": 676,
   "metadata": {},
   "outputs": [],
   "source": [
    "x_train = drop_target(train_work['3-3']).copy()"
   ]
  },
  {
   "cell_type": "code",
   "execution_count": 681,
   "metadata": {},
   "outputs": [],
   "source": [
    "x_train['Current Loan Amount'] = rankdata(x_train['Current Loan Amount'])"
   ]
  },
  {
   "cell_type": "code",
   "execution_count": null,
   "metadata": {},
   "outputs": [],
   "source": []
  },
  {
   "cell_type": "code",
   "execution_count": null,
   "metadata": {},
   "outputs": [],
   "source": []
  },
  {
   "cell_type": "code",
   "execution_count": null,
   "metadata": {},
   "outputs": [],
   "source": []
  },
  {
   "cell_type": "code",
   "execution_count": 961,
   "metadata": {},
   "outputs": [
    {
     "name": "stdout",
     "output_type": "stream",
     "text": [
      "[0.76381224 0.77736086 0.78315749 0.77277706 0.7581478 ]\n",
      "[0.76818762 0.75560581 0.74933883 0.78478664 0.78433209]\n",
      "[0.75037144 0.78129278 0.7611581  0.79347557 0.77621916]\n",
      "[0.77717963 0.76446881 0.7451893  0.7924842  0.78203132]\n",
      "[0.77566768 0.74225676 0.78913852 0.76491623 0.77498011]\n",
      "[0.7736362  0.77157274 0.77895038 0.75262045 0.77925249]\n",
      "[0.77772108 0.77171114 0.75952352 0.77311435 0.76686434]\n",
      "[0.77883044 0.77682549 0.76226255 0.77538954 0.7605167 ]\n",
      "[0.77310094 0.78577423 0.75882768 0.77034139 0.7597906 ]\n",
      "[0.7802829  0.76999982 0.79539271 0.75227882 0.77488756]\n",
      "[0.78020412 0.7772982  0.75059874 0.79017265 0.76295107]\n",
      "[0.75575262 0.77885269 0.78235176 0.78204785 0.75220822]\n",
      "[0.77377973 0.74831237 0.77373389 0.77976034 0.77089638]\n",
      "[0.78583362 0.76024942 0.78659055 0.77048144 0.75214525]\n",
      "[0.77198723 0.76355944 0.76895339 0.7717421  0.77400422]\n",
      "[0.78164916 0.76450163 0.74847728 0.7799499  0.79314224]\n",
      "[0.77406731 0.76047293 0.7596651  0.77056525 0.77735492]\n",
      "[0.78610886 0.76597759 0.75635751 0.77433642 0.76148416]\n",
      "[0.76709561 0.79047289 0.75130405 0.78582547 0.76142779]\n",
      "[0.78153351 0.75146976 0.78577748 0.77812658 0.75972002]\n",
      "[0.76246588 0.77388125 0.79829426 0.76973854 0.75606664]\n",
      "[0.75803291 0.78912462 0.77030511 0.76935031 0.76936262]\n",
      "[0.76184549 0.78915678 0.78108544 0.7767473  0.75049379]\n",
      "[0.76961757 0.77359024 0.78606289 0.76410702 0.76745301]\n",
      "[0.78114517 0.75755203 0.78989728 0.76351528 0.77272894]\n",
      "[0.78719903 0.78023473 0.76043352 0.76157694 0.77027359]\n",
      "[0.75895511 0.77130406 0.77035119 0.78980892 0.76336733]\n",
      "[0.76587084 0.78356727 0.76187065 0.76783211 0.77571229]\n",
      "[0.7782675  0.76876475 0.77984339 0.76926602 0.74465248]\n",
      "[0.78373238 0.78131576 0.76697256 0.76322554 0.76368529]\n",
      "[0.77288186 0.76607584 0.7619699  0.78609959 0.77469042]\n",
      "[0.76581439 0.76804894 0.77507658 0.77108613 0.77087929]\n",
      "[0.7729155  0.77677245 0.77716503 0.77476196 0.76080931]\n",
      "[0.73990734 0.79462517 0.77029874 0.76905225 0.7723228 ]\n",
      "[0.77600333 0.7727999  0.77984563 0.7598297  0.77306764]\n",
      "[0.79330514 0.76597559 0.7620406  0.78451212 0.75436558]\n",
      "[0.76403365 0.76711433 0.76482723 0.78896271 0.7654508 ]\n",
      "[0.77205891 0.77992921 0.76699074 0.76921032 0.76072806]\n",
      "[0.77759597 0.79869251 0.76517002 0.74612721 0.76343136]\n",
      "[0.76563991 0.7606699  0.77723819 0.77243735 0.77450894]\n",
      "[0.78164394 0.76959252 0.76747609 0.76002799 0.77672269]\n",
      "[0.75899925 0.79003132 0.78065183 0.77447888 0.75646274]\n",
      "[0.7735681  0.7579982  0.7601476  0.78583333 0.77971448]\n",
      "[0.77079037 0.76423994 0.76862402 0.76529654 0.78229051]\n",
      "[0.7553533  0.77321574 0.76890006 0.76698899 0.79215415]\n",
      "[0.77974835 0.76756368 0.77836123 0.76590955 0.77140362]\n",
      "[0.7553351  0.77310584 0.76152351 0.77351052 0.78552407]\n",
      "[0.78573074 0.75988202 0.77729901 0.75721805 0.77183545]\n",
      "[0.77302654 0.77436961 0.78768959 0.76819516 0.75378323]\n",
      "[0.7784539  0.78789168 0.7585751  0.75923669 0.7717459 ]\n",
      "Wall time: 12min 25s\n"
     ]
    }
   ],
   "source": [
    "%%time\n",
    "base_score = np.array([])\n",
    "\n",
    "\n",
    "for i in range(50):\n",
    "    fold = KFold(n_splits=5, shuffle=True, random_state=i)\n",
    "    scores = cross_val_score(\n",
    "        estimator=model_cb,\n",
    "        X=drop_target(tr),\n",
    "        y=target,\n",
    "        scoring='roc_auc',\n",
    "        cv=fold\n",
    "    )\n",
    "    print(scores)\n",
    "    base_score = np.append(base_score, scores)"
   ]
  },
  {
   "cell_type": "code",
   "execution_count": 962,
   "metadata": {},
   "outputs": [],
   "source": [
    "ddd = train_work.copy()\n",
    "for i in ddd:\n",
    "    a = categorical_features.copy()\n",
    "    a.remove('Purpose')\n",
    "    a.remove( 'Tax Liens')\n",
    "    if i in ['4-2','5-2','6-2']:\n",
    "        continue\n",
    "    ddd[i][categorical_features] =ddd[i][categorical_features].astype('str')\n",
    "    ddd[i][categorical_features] =ddd[i][categorical_features].astype('str')"
   ]
  },
  {
   "cell_type": "code",
   "execution_count": 963,
   "metadata": {},
   "outputs": [
    {
     "name": "stderr",
     "output_type": "stream",
     "text": [
      "100%|███████████████████████████████████████████████████████████████████████████████| 19/19 [1:11:29<00:00, 225.77s/it]"
     ]
    },
    {
     "name": "stdout",
     "output_type": "stream",
     "text": [
      "Wall time: 1h 11min 29s\n"
     ]
    },
    {
     "name": "stderr",
     "output_type": "stream",
     "text": [
      "\n"
     ]
    },
    {
     "data": {
      "text/plain": [
       "Text(0, 0.5, 't-statistic')"
      ]
     },
     "execution_count": 963,
     "metadata": {},
     "output_type": "execute_result"
    },
    {
     "data": {
      "image/png": "[encoded data removed]",
      "text/plain": [
       "<Figure size 432x288 with 1 Axes>"
      ]
     },
     "metadata": {
      "needs_background": "light"
     },
     "output_type": "display_data"
    }
   ],
   "source": [
    "%%time\n",
    "d = []\n",
    "\n",
    "for n,i in ddd.items():\n",
    "    k=i.copy()    \n",
    "\n",
    "    d.append((n,k))\n",
    "t_stats, n_trees = [], []\n",
    "j = 1\n",
    "for data in tqdm(d):\n",
    "    current_score = np.array([])\n",
    "    for i in range(50):\n",
    "        fold = KFold(n_splits=5, shuffle=True, random_state=i)\n",
    "        scores = cross_val_score(\n",
    "            estimator=model_cb,\n",
    "            X=drop_target(data[1]),\n",
    "            y=target,\n",
    "            scoring='roc_auc',\n",
    "            cv=fold,\n",
    "            n_jobs=-1\n",
    "        )\n",
    "        current_score = np.append(current_score, scores)\n",
    "\n",
    "    t_stat, p_value = ttest_rel(current_score, base_score)\n",
    "    t_stats.append(t_stat)\n",
    "    n_trees.append(data[0])\n",
    "\n",
    "plt.plot(n_trees, t_stats)\n",
    "plt.xlabel('n_estimators')\n",
    "plt.ylabel('t-statistic')"
   ]
  },
  {
   "cell_type": "code",
   "execution_count": 958,
   "metadata": {},
   "outputs": [
    {
     "data": {
      "text/plain": [
       "[nan,\n",
       " -3.190033839833046,\n",
       " -1.2179717833926011,\n",
       " 6.023332744174884,\n",
       " -3.190033839833046,\n",
       " -1.2179717833926011,\n",
       " 6.243080111931794,\n",
       " -3.190033839833046,\n",
       " -1.2179717833926011,\n",
       " 6.243080111931794,\n",
       " -3.190033839833046,\n",
       " -1.2179717833926011,\n",
       " 6.243080111931794,\n",
       " -8.691534291647796,\n",
       " nan,\n",
       " -0.5538322188569391,\n",
       " nan,\n",
       " nan,\n",
       " nan]"
      ]
     },
     "execution_count": 958,
     "metadata": {},
     "output_type": "execute_result"
    }
   ],
   "source": [
    "t_stats"
   ]
  },
  {
   "cell_type": "code",
   "execution_count": 959,
   "metadata": {},
   "outputs": [
    {
     "data": {
      "text/plain": [
       "['start',\n",
       " '1',\n",
       " '2',\n",
       " '3',\n",
       " '1-1',\n",
       " '1-2',\n",
       " '1-3',\n",
       " '2-1',\n",
       " '2-2',\n",
       " '2-3',\n",
       " '3-1',\n",
       " '3-2',\n",
       " '3-3',\n",
       " '4',\n",
       " '5',\n",
       " '6',\n",
       " '4-2',\n",
       " '5-2',\n",
       " '6-2']"
      ]
     },
     "execution_count": 959,
     "metadata": {},
     "output_type": "execute_result"
    }
   ],
   "source": [
    "n_trees"
   ]
  },
  {
   "cell_type": "code",
   "execution_count": null,
   "metadata": {},
   "outputs": [],
   "source": []
  }
 ],
 "metadata": {
  "kernelspec": {
   "display_name": "Python 3",
   "language": "python",
   "name": "python3"
  },
  "language_info": {
   "codemirror_mode": {
    "name": "ipython",
    "version": 3
   },
   "file_extension": ".py",
   "mimetype": "text/x-python",
   "name": "python",
   "nbconvert_exporter": "python",
   "pygments_lexer": "ipython3",
   "version": "3.8.3"
  }
 },
 "nbformat": 4,
 "nbformat_minor": 4
}
